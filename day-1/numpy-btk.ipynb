{
 "cells": [
  {
   "cell_type": "code",
   "execution_count": 1,
   "metadata": {},
   "outputs": [
    {
     "name": "stdout",
     "output_type": "stream",
     "text": [
      "[[3 4 5]\n",
      " [7 8 9]]\n",
      "********************\n",
      "2\n",
      "********************\n",
      "(2, 3)\n"
     ]
    }
   ],
   "source": [
    "import numpy as np\n",
    "\n",
    "array1 = np.array([[3,4,5],\n",
    "                   [7,8,9]])\n",
    "\n",
    "print(array1)\n",
    "print(\"********************\")\n",
    "print(array1.ndim) #boyutu\n",
    "print(\"********************\")\n",
    "print(array1.shape) #şekli"
   ]
  },
  {
   "cell_type": "code",
   "execution_count": 2,
   "metadata": {},
   "outputs": [
    {
     "name": "stdout",
     "output_type": "stream",
     "text": [
      "[[0. 0. 0. 0. 0.]\n",
      " [0. 0. 0. 0. 0.]\n",
      " [0. 0. 0. 0. 0.]\n",
      " [0. 0. 0. 0. 0.]\n",
      " [0. 0. 0. 0. 0.]]\n",
      "**************\n",
      "[[1. 1. 1. 1. 1.]\n",
      " [1. 1. 1. 1. 1.]\n",
      " [1. 1. 1. 1. 1.]\n",
      " [1. 1. 1. 1. 1.]\n",
      " [1. 1. 1. 1. 1.]]\n",
      "**************\n",
      "[['Merhaba' 'Merhaba' 'Merhaba' 'Merhaba' 'Merhaba']\n",
      " ['Merhaba' 'Merhaba' 'Merhaba' 'Merhaba' 'Merhaba']\n",
      " ['Merhaba' 'Merhaba' 'Merhaba' 'Merhaba' 'Merhaba']\n",
      " ['Merhaba' 'Merhaba' 'Merhaba' 'Merhaba' 'Merhaba']\n",
      " ['Merhaba' 'Merhaba' 'Merhaba' 'Merhaba' 'Merhaba']]\n"
     ]
    }
   ],
   "source": [
    "print(np.zeros((5,5)))\n",
    "print(\"**************\")\n",
    "\n",
    "print(np.ones((5,5)))\n",
    "print(\"**************\")\n",
    "\n",
    "arr1 = np.full((5,5),\"Merhaba\")\n",
    "print(arr1)"
   ]
  },
  {
   "cell_type": "code",
   "execution_count": 3,
   "metadata": {},
   "outputs": [
    {
     "data": {
      "text/plain": [
       "dtype('<U7')"
      ]
     },
     "execution_count": 3,
     "metadata": {},
     "output_type": "execute_result"
    }
   ],
   "source": [
    "arr1.dtype #matrisin içindekinin type'ı"
   ]
  },
  {
   "cell_type": "code",
   "execution_count": 4,
   "metadata": {},
   "outputs": [
    {
     "name": "stdout",
     "output_type": "stream",
     "text": [
      "[0.  0.2 0.4 0.6 0.8]\n"
     ]
    }
   ],
   "source": [
    "print(np.arange(0,1,0.2)) # start,stop,step"
   ]
  },
  {
   "cell_type": "code",
   "execution_count": 5,
   "metadata": {},
   "outputs": [
    {
     "name": "stdout",
     "output_type": "stream",
     "text": [
      "[0.  0.5 1.  1.5 2. ]\n"
     ]
    }
   ],
   "source": [
    "print(np.linspace(0,2,num=5,endpoint=True)) #num böldüğü parça sayısı, stop yazılır."
   ]
  },
  {
   "cell_type": "code",
   "execution_count": 6,
   "metadata": {},
   "outputs": [
    {
     "name": "stdout",
     "output_type": "stream",
     "text": [
      "[[56 23 97 21 11]\n",
      " [62 84 71 26 47]\n",
      " [47 28 90 24 87]\n",
      " [36 75 72 57  4]\n",
      " [60 32 79 82 89]]\n"
     ]
    }
   ],
   "source": [
    "print(np.random.randint(1,100,size=(5,5))) #1-100 random 5*5 matrix"
   ]
  },
  {
   "cell_type": "code",
   "execution_count": 7,
   "metadata": {},
   "outputs": [
    {
     "name": "stdout",
     "output_type": "stream",
     "text": [
      "[[[ 1  2  3]\n",
      "  [ 4  5  6]]\n",
      "\n",
      " [[ 7  8  9]\n",
      "  [10 11 12]]]\n"
     ]
    }
   ],
   "source": [
    "customArray = np.array([[[1,2,3],[4,5,6]],        #3 boyutlu\n",
    "                       [[7,8,9],[10,11,12]]])\n",
    "print(customArray)"
   ]
  },
  {
   "cell_type": "code",
   "execution_count": 8,
   "metadata": {},
   "outputs": [
    {
     "name": "stdout",
     "output_type": "stream",
     "text": [
      "[[[1. 1. 1. 1.]\n",
      "  [1. 1. 1. 1.]\n",
      "  [1. 1. 1. 1.]]\n",
      "\n",
      " [[1. 1. 1. 1.]\n",
      "  [1. 1. 1. 1.]\n",
      "  [1. 1. 1. 1.]]]\n"
     ]
    }
   ],
   "source": [
    "print(np.ones((2,3,4))) #derinlik,satır,sütun"
   ]
  },
  {
   "cell_type": "code",
   "execution_count": 9,
   "metadata": {},
   "outputs": [
    {
     "name": "stdout",
     "output_type": "stream",
     "text": [
      "[8 9]\n",
      "***************\n",
      "[ 4 10]\n"
     ]
    }
   ],
   "source": [
    "print(customArray[1][0][1:3]) #2.boyut 1.satır 2,3.sütunun elemanını yazdırdık\n",
    "\n",
    "print(\"***************\")\n",
    "\n",
    "print(customArray[0:2,1,0]) #1,2.boyut 2.satır 1.sütunun elemanları"
   ]
  },
  {
   "cell_type": "code",
   "execution_count": 10,
   "metadata": {},
   "outputs": [
    {
     "name": "stdout",
     "output_type": "stream",
     "text": [
      "float32\n",
      "[555 444   3   4]\n",
      "[999   2   3   4]\n",
      "[555 444   3   4]\n",
      "[555 444   3   4]\n",
      "None\n"
     ]
    }
   ],
   "source": [
    "newArray = np.array([1,2,3,4])\n",
    "newArray2 = newArray.astype(\"f\") #type'ını float yaptık\n",
    "print(newArray2.dtype)\n",
    "\n",
    "carray = newArray.copy()\n",
    "varray = newArray.view()\n",
    "newArray[1] = 444\n",
    "carray[0] = 999\n",
    "varray[0] = 555\n",
    "\n",
    "print(newArray)\n",
    "print(carray)\n",
    "print(varray)\n",
    "print(varray.base)\n",
    "print(carray.base)"
   ]
  },
  {
   "cell_type": "code",
   "execution_count": 11,
   "metadata": {},
   "outputs": [
    {
     "name": "stdout",
     "output_type": "stream",
     "text": [
      "(8,)\n",
      "(1, 8)\n"
     ]
    }
   ],
   "source": [
    "yeniarray = np.array([1,2,3,4,5,6,7,8])\n",
    "yeniarray2 = np.array(yeniarray, ndmin=2) #boyutunu değiştiriyor\n",
    "print(yeniarray.shape)\n",
    "print(yeniarray2.shape)"
   ]
  },
  {
   "cell_type": "code",
   "execution_count": 12,
   "metadata": {},
   "outputs": [
    {
     "name": "stdout",
     "output_type": "stream",
     "text": [
      "(8,)\n",
      "(2, 4)\n",
      "[[1 2 3 4]\n",
      " [5 6 7 8]]\n",
      "<built-in method reshape of numpy.ndarray object at 0x103706e50>\n",
      "[1 2 3 4 5 6 7 8]\n",
      "[[[1 2]\n",
      "  [3 4]]\n",
      "\n",
      " [[5 6]\n",
      "  [7 8]]]\n"
     ]
    }
   ],
   "source": [
    "#reshape: Değerler katsayısı olmalı\n",
    "arr1 = np.array([1,2,3,4,5,6,7,8])\n",
    "arr2 = np.array([[1,2,3,4],[5,6,7,8]])\n",
    "\n",
    "print(arr1.shape)\n",
    "print(arr2.shape)\n",
    "arrOneToTwo = arr1.reshape(2,4)\n",
    "print(arrOneToTwo)\n",
    "print(arrOneToTwo.reshape)\n",
    "\n",
    "arrTwoToOne = arrOneToTwo.reshape(8)\n",
    "print(arrTwoToOne)\n",
    "\n",
    "arrTwoToTree = arr2.reshape(2,2,2)\n",
    "print(arrTwoToTree)"
   ]
  },
  {
   "cell_type": "code",
   "execution_count": 13,
   "metadata": {},
   "outputs": [
    {
     "name": "stdout",
     "output_type": "stream",
     "text": [
      "1 eleman= 1\n",
      "2 eleman= 2\n",
      "3 eleman= 3\n",
      "4 eleman= 4\n",
      "5 eleman= 5\n",
      "6 eleman= 6\n",
      "7 eleman= 7\n",
      "8 eleman= 8\n"
     ]
    }
   ],
   "source": [
    "arr1 = np.array([1,2,3,4,5,6,7,8])\n",
    "for i,eleman in enumerate(arr1):\n",
    "    print(f\"{i+1} eleman= {eleman}\")"
   ]
  },
  {
   "cell_type": "code",
   "execution_count": 14,
   "metadata": {},
   "outputs": [
    {
     "name": "stdout",
     "output_type": "stream",
     "text": [
      "1\n",
      "2\n",
      "3\n",
      "4\n",
      "5\n",
      "6\n",
      "7\n",
      "8\n"
     ]
    }
   ],
   "source": [
    "arr2 = np.array([[1,2,3,4],[5,6,7,8]])\n",
    "for eleman in arr2:\n",
    "    for eleman2 in eleman:\n",
    "        print(eleman2)"
   ]
  },
  {
   "cell_type": "code",
   "execution_count": 15,
   "metadata": {},
   "outputs": [
    {
     "name": "stdout",
     "output_type": "stream",
     "text": [
      "1\n",
      "2\n",
      "3\n",
      "4\n",
      "5\n",
      "6\n",
      "7\n",
      "8\n",
      "9\n",
      "10\n",
      "11\n",
      "12\n"
     ]
    }
   ],
   "source": [
    "arr3 = np.array([[[1,2,3],[4,5,6]],[[7,8,9],[10,11,12]]])\n",
    "for eleman in arr3:\n",
    "    for eleman2 in eleman:\n",
    "        for eleman3 in eleman2:\n",
    "            print(eleman3)"
   ]
  },
  {
   "cell_type": "code",
   "execution_count": 16,
   "metadata": {},
   "outputs": [
    {
     "name": "stdout",
     "output_type": "stream",
     "text": [
      "1\n",
      "2\n",
      "3\n",
      "4\n",
      "5\n",
      "6\n",
      "7\n",
      "8\n",
      "9\n",
      "10\n",
      "11\n",
      "12\n"
     ]
    }
   ],
   "source": [
    "for i in np.nditer(arr3):\n",
    "    print(i)"
   ]
  },
  {
   "cell_type": "code",
   "execution_count": 17,
   "metadata": {},
   "outputs": [
    {
     "name": "stdout",
     "output_type": "stream",
     "text": [
      "(0, 0, 0). eleman= 1\n",
      "(0, 0, 1). eleman= 2\n",
      "(0, 0, 2). eleman= 3\n",
      "(0, 1, 0). eleman= 4\n",
      "(0, 1, 1). eleman= 5\n",
      "(0, 1, 2). eleman= 6\n",
      "(1, 0, 0). eleman= 7\n",
      "(1, 0, 1). eleman= 8\n",
      "(1, 0, 2). eleman= 9\n",
      "(1, 1, 0). eleman= 10\n",
      "(1, 1, 1). eleman= 11\n",
      "(1, 1, 2). eleman= 12\n"
     ]
    }
   ],
   "source": [
    "for i, eleman in np.ndenumerate(arr3):\n",
    "    print(f\"{i}. eleman= {eleman}\")"
   ]
  },
  {
   "cell_type": "markdown",
   "metadata": {},
   "source": [
    "Join İşlemleri"
   ]
  },
  {
   "cell_type": "code",
   "execution_count": 18,
   "metadata": {},
   "outputs": [
    {
     "name": "stdout",
     "output_type": "stream",
     "text": [
      "[[1 2]\n",
      " [3 4]\n",
      " [5 6]\n",
      " [7 8]]\n",
      "***********\n",
      "[[1 2 5 6]\n",
      " [3 4 7 8]]\n"
     ]
    }
   ],
   "source": [
    "arr1 = np.array([[1,2],\n",
    "                 [3,4]])\n",
    "arr2 = np.array([[5,6],\n",
    "                 [7,8]])\n",
    "print(np.concatenate((arr1,arr2),axis=0)) #4,2\n",
    "print(\"***********\")\n",
    "print(np.concatenate((arr1,arr2),axis=1)) #2,4"
   ]
  },
  {
   "cell_type": "code",
   "execution_count": 19,
   "metadata": {},
   "outputs": [
    {
     "name": "stdout",
     "output_type": "stream",
     "text": [
      "[[1 2 5 6]\n",
      " [3 4 7 8]]\n",
      "***********\n",
      "[[1 2]\n",
      " [3 4]\n",
      " [5 6]\n",
      " [7 8]]\n"
     ]
    }
   ],
   "source": [
    "print(np.hstack((arr1,arr2))) #horizontal\n",
    "print(\"***********\")\n",
    "print(np.vstack((arr1,arr2))) #vertical\n"
   ]
  },
  {
   "cell_type": "code",
   "execution_count": 20,
   "metadata": {},
   "outputs": [
    {
     "name": "stdout",
     "output_type": "stream",
     "text": [
      "[[[1 2]\n",
      "  [3 4]]\n",
      "\n",
      " [[5 6]\n",
      "  [7 8]]]\n"
     ]
    }
   ],
   "source": [
    "print(np.stack((arr1,arr2),axis=0)) #3 boyutlu yaptı"
   ]
  },
  {
   "cell_type": "code",
   "execution_count": 21,
   "metadata": {},
   "outputs": [
    {
     "name": "stdout",
     "output_type": "stream",
     "text": [
      "[[[1 2]\n",
      "  [5 6]]\n",
      "\n",
      " [[3 4]\n",
      "  [7 8]]]\n"
     ]
    }
   ],
   "source": [
    "print(np.stack((arr1,arr2),axis=1)) #dikeyde 3 boyutlu yaptı"
   ]
  },
  {
   "cell_type": "markdown",
   "metadata": {},
   "source": [
    "Split İşlemleri"
   ]
  },
  {
   "cell_type": "code",
   "execution_count": 22,
   "metadata": {},
   "outputs": [
    {
     "name": "stdout",
     "output_type": "stream",
     "text": [
      "[1 2]\n",
      "**********************\n",
      "[array([[1, 2],\n",
      "       [3, 4]]), array([[5, 6],\n",
      "       [7, 8]])]\n"
     ]
    }
   ],
   "source": [
    "arr1 = np.array([1,2,3,4,5,6])\n",
    "arr2 = np.array([[1,2],[3,4],[5,6],[7,8]])\n",
    "print(np.array_split(arr1,3)[0]) #Split 3, take first\n",
    "print(\"**********************\")\n",
    "print(np.array_split(arr2,2))"
   ]
  },
  {
   "cell_type": "markdown",
   "metadata": {},
   "source": [
    "Search İşlemleri"
   ]
  },
  {
   "cell_type": "code",
   "execution_count": 23,
   "metadata": {},
   "outputs": [
    {
     "name": "stdout",
     "output_type": "stream",
     "text": [
      "(array([ 4,  5,  6,  7,  8,  9, 12, 14]),)\n",
      "[ 4  5  6  7  8  9 12 14]\n",
      "[ 1  3 10 13]\n"
     ]
    }
   ],
   "source": [
    "arr1 = np.array([1,2,3,4,5,5,5,5,5,5,6,7,5,8,5])\n",
    "print(np.where(arr1==5))\n",
    "print(np.where(arr1==5)[0]) #liste olarak döndürsün,arrayden kurtulsun diye [0]\n",
    "print(np.where(arr1%2==0)[0])"
   ]
  },
  {
   "cell_type": "markdown",
   "metadata": {},
   "source": [
    "Sorting İşlemleri"
   ]
  },
  {
   "cell_type": "code",
   "execution_count": 24,
   "metadata": {},
   "outputs": [
    {
     "name": "stdout",
     "output_type": "stream",
     "text": [
      "[11  9  8  6  6  4  3  1]\n",
      "['Ahmet' 'Ceyda' 'Ozan' 'Veli' 'İrem']\n",
      "[False False  True  True]\n"
     ]
    }
   ],
   "source": [
    "arr1 = np.array([6,4,3,6,8,9,11,1])\n",
    "arr2 = np.array([\"Ceyda\",\"Ahmet\",\"İrem\",\"Ozan\",\"Veli\"])\n",
    "arr3 = np.array([True,False,False,True])\n",
    "\n",
    "print(np.sort(arr1, kind=\"quicksort\")[::-1])\n",
    "print(np.sort(arr2, kind=\"mergesort\"))\n",
    "print(np.sort(arr3, kind=\"heapsort\"))"
   ]
  }
 ],
 "metadata": {
  "kernelspec": {
   "display_name": "btk-manisa",
   "language": "python",
   "name": "python3"
  },
  "language_info": {
   "codemirror_mode": {
    "name": "ipython",
    "version": 3
   },
   "file_extension": ".py",
   "mimetype": "text/x-python",
   "name": "python",
   "nbconvert_exporter": "python",
   "pygments_lexer": "ipython3",
   "version": "3.10.7"
  }
 },
 "nbformat": 4,
 "nbformat_minor": 2
}
