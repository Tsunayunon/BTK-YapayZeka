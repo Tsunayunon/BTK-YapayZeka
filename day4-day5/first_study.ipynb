{
 "cells": [
  {
   "cell_type": "code",
   "execution_count": 1,
   "metadata": {},
   "outputs": [
    {
     "name": "stdout",
     "output_type": "stream",
     "text": [
      "        A_id      Size    Weight  Sweetness  Crunchiness  Juiciness  Ripeness  \\\n",
      "0        0.0 -3.970049 -2.512336   5.346330    -1.012009   1.844900  0.329840   \n",
      "1        1.0 -1.195217 -2.839257   3.664059     1.588232   0.853286  0.867530   \n",
      "2        2.0 -0.292024 -1.351282  -1.738429    -0.342616   2.838636 -0.038033   \n",
      "3        3.0 -0.657196 -2.271627   1.324874    -0.097875   3.637970 -3.413761   \n",
      "4        4.0  1.364217 -1.296612  -0.384658    -0.553006   3.030874 -1.303849   \n",
      "...      ...       ...       ...        ...          ...        ...       ...   \n",
      "3996  3996.0 -0.293118  1.949253  -0.204020    -0.640196   0.024523 -1.087900   \n",
      "3997  3997.0 -2.634515 -2.138247  -2.440461     0.657223   2.199709  4.763859   \n",
      "3998  3998.0 -4.008004 -1.779337   2.366397    -0.200329   2.161435  0.214488   \n",
      "3999  3999.0  0.278540 -1.715505   0.121217    -1.154075   1.266677 -0.776571   \n",
      "4000     NaN       NaN       NaN        NaN          NaN        NaN       NaN   \n",
      "\n",
      "                                Acidity Quality  \n",
      "0                          -0.491590483    good  \n",
      "1                          -0.722809367    good  \n",
      "2                           2.621636473     bad  \n",
      "3                           0.790723217    good  \n",
      "4                           0.501984036    good  \n",
      "...                                 ...     ...  \n",
      "3996                        1.854235285    good  \n",
      "3997                       -1.334611391     bad  \n",
      "3998                       -2.229719806    good  \n",
      "3999                        1.599796456    good  \n",
      "4000  Created_by_Nidula_Elgiriyewithana     NaN  \n",
      "\n",
      "[4001 rows x 9 columns]\n"
     ]
    }
   ],
   "source": [
    "import pandas as pd\n",
    "\n",
    "dataset = pd.read_csv(r\"apple_quality.csv\")\n",
    "print(dataset)"
   ]
  },
  {
   "cell_type": "code",
   "execution_count": 2,
   "metadata": {},
   "outputs": [
    {
     "name": "stdout",
     "output_type": "stream",
     "text": [
      "<class 'pandas.core.frame.DataFrame'>\n",
      "RangeIndex: 4001 entries, 0 to 4000\n",
      "Data columns (total 9 columns):\n",
      " #   Column       Non-Null Count  Dtype  \n",
      "---  ------       --------------  -----  \n",
      " 0   A_id         4000 non-null   float64\n",
      " 1   Size         4000 non-null   float64\n",
      " 2   Weight       4000 non-null   float64\n",
      " 3   Sweetness    4000 non-null   float64\n",
      " 4   Crunchiness  4000 non-null   float64\n",
      " 5   Juiciness    4000 non-null   float64\n",
      " 6   Ripeness     4000 non-null   float64\n",
      " 7   Acidity      4001 non-null   object \n",
      " 8   Quality      4000 non-null   object \n",
      "dtypes: float64(7), object(2)\n",
      "memory usage: 281.4+ KB\n"
     ]
    }
   ],
   "source": [
    "dataset.info()"
   ]
  },
  {
   "cell_type": "code",
   "execution_count": 3,
   "metadata": {},
   "outputs": [
    {
     "name": "stdout",
     "output_type": "stream",
     "text": [
      "<class 'pandas.core.frame.DataFrame'>\n",
      "RangeIndex: 4001 entries, 0 to 4000\n",
      "Data columns (total 8 columns):\n",
      " #   Column       Non-Null Count  Dtype  \n",
      "---  ------       --------------  -----  \n",
      " 0   Size         4000 non-null   float64\n",
      " 1   Weight       4000 non-null   float64\n",
      " 2   Sweetness    4000 non-null   float64\n",
      " 3   Crunchiness  4000 non-null   float64\n",
      " 4   Juiciness    4000 non-null   float64\n",
      " 5   Ripeness     4000 non-null   float64\n",
      " 6   Acidity      4001 non-null   object \n",
      " 7   Quality      4000 non-null   object \n",
      "dtypes: float64(6), object(2)\n",
      "memory usage: 250.2+ KB\n"
     ]
    }
   ],
   "source": [
    "cleared_dataset = dataset.drop(\"A_id\", axis=1)\n",
    "cleared_dataset.info()"
   ]
  },
  {
   "cell_type": "code",
   "execution_count": 4,
   "metadata": {},
   "outputs": [
    {
     "name": "stdout",
     "output_type": "stream",
     "text": [
      "          Size    Weight  Sweetness  Crunchiness  Juiciness  Ripeness  \\\n",
      "0    -1.798424 -0.950373   2.993421    -1.424150   0.690545 -0.089872   \n",
      "1    -0.359060 -1.154404   2.127698     0.429746   0.176767  0.197020   \n",
      "2     0.109445 -0.225759  -0.652507    -0.946892   1.205422 -0.286156   \n",
      "3    -0.079977 -0.800146   0.923916    -0.772399   1.619575 -2.087320   \n",
      "4     0.968573 -0.191640   0.044164    -1.096894   1.305025 -0.961548   \n",
      "...        ...       ...        ...          ...        ...       ...   \n",
      "3996  0.108878  1.834105   0.137124    -1.159058  -0.252634 -0.846326   \n",
      "3997 -1.105655 -0.716904  -1.013784    -0.234036   0.874379  2.275957   \n",
      "3998 -1.818112 -0.492908   1.459901    -0.845446   0.854549 -0.151419   \n",
      "3999  0.405409 -0.453071   0.304496    -1.525439   0.390954 -0.680212   \n",
      "4000       NaN       NaN        NaN          NaN        NaN       NaN   \n",
      "\n",
      "                                Acidity Quality  \n",
      "0                          -0.491590483    good  \n",
      "1                          -0.722809367    good  \n",
      "2                           2.621636473     bad  \n",
      "3                           0.790723217    good  \n",
      "4                           0.501984036    good  \n",
      "...                                 ...     ...  \n",
      "3996                        1.854235285    good  \n",
      "3997                       -1.334611391     bad  \n",
      "3998                       -2.229719806    good  \n",
      "3999                        1.599796456    good  \n",
      "4000  Created_by_Nidula_Elgiriyewithana     NaN  \n",
      "\n",
      "[4001 rows x 8 columns]\n"
     ]
    }
   ],
   "source": [
    "import numpy as np\n",
    "from sklearn.preprocessing import StandardScaler\n",
    "\n",
    "scaler = StandardScaler()\n",
    "\n",
    "cleared_dataset[[\"Size\",\"Weight\",\"Sweetness\",\"Crunchiness\",\"Juiciness\",\"Ripeness\"]] = scaler.fit_transform(\n",
    "    cleared_dataset[[\"Size\",\"Weight\",\"Sweetness\",\"Crunchiness\",\"Juiciness\",\"Ripeness\"]])\n",
    "\n",
    "print(cleared_dataset)"
   ]
  },
  {
   "cell_type": "code",
   "execution_count": 5,
   "metadata": {},
   "outputs": [
    {
     "name": "stdout",
     "output_type": "stream",
     "text": [
      "          Size    Weight  Sweetness  Crunchiness  Juiciness  Ripeness  \\\n",
      "0    -1.798424 -0.950373   2.993421    -1.424150   0.690545 -0.089872   \n",
      "1    -0.359060 -1.154404   2.127698     0.429746   0.176767  0.197020   \n",
      "2     0.109445 -0.225759  -0.652507    -0.946892   1.205422 -0.286156   \n",
      "3    -0.079977 -0.800146   0.923916    -0.772399   1.619575 -2.087320   \n",
      "4     0.968573 -0.191640   0.044164    -1.096894   1.305025 -0.961548   \n",
      "...        ...       ...        ...          ...        ...       ...   \n",
      "3996  0.108878  1.834105   0.137124    -1.159058  -0.252634 -0.846326   \n",
      "3997 -1.105655 -0.716904  -1.013784    -0.234036   0.874379  2.275957   \n",
      "3998 -1.818112 -0.492908   1.459901    -0.845446   0.854549 -0.151419   \n",
      "3999  0.405409 -0.453071   0.304496    -1.525439   0.390954 -0.680212   \n",
      "4000       NaN       NaN        NaN          NaN        NaN       NaN   \n",
      "\n",
      "                                Acidity  Quality  \n",
      "0                          -0.491590483        1  \n",
      "1                          -0.722809367        1  \n",
      "2                           2.621636473        0  \n",
      "3                           0.790723217        1  \n",
      "4                           0.501984036        1  \n",
      "...                                 ...      ...  \n",
      "3996                        1.854235285        1  \n",
      "3997                       -1.334611391        0  \n",
      "3998                       -2.229719806        1  \n",
      "3999                        1.599796456        1  \n",
      "4000  Created_by_Nidula_Elgiriyewithana        2  \n",
      "\n",
      "[4001 rows x 8 columns]\n"
     ]
    }
   ],
   "source": [
    "from sklearn.preprocessing import LabelEncoder\n",
    "\n",
    "le =LabelEncoder()\n",
    "\n",
    "cleared_dataset[\"Quality\"] = le.fit_transform(cleared_dataset[\"Quality\"])\n",
    "\n",
    "print(cleared_dataset)"
   ]
  },
  {
   "cell_type": "code",
   "execution_count": 6,
   "metadata": {},
   "outputs": [
    {
     "name": "stdout",
     "output_type": "stream",
     "text": [
      "          Size    Weight  Sweetness  Crunchiness  Juiciness  Ripeness  \\\n",
      "0    -1.798424 -0.950373   2.993421    -1.424150   0.690545 -0.089872   \n",
      "1    -0.359060 -1.154404   2.127698     0.429746   0.176767  0.197020   \n",
      "2     0.109445 -0.225759  -0.652507    -0.946892   1.205422 -0.286156   \n",
      "3    -0.079977 -0.800146   0.923916    -0.772399   1.619575 -2.087320   \n",
      "4     0.968573 -0.191640   0.044164    -1.096894   1.305025 -0.961548   \n",
      "...        ...       ...        ...          ...        ...       ...   \n",
      "3996  0.108878  1.834105   0.137124    -1.159058  -0.252634 -0.846326   \n",
      "3997 -1.105655 -0.716904  -1.013784    -0.234036   0.874379  2.275957   \n",
      "3998 -1.818112 -0.492908   1.459901    -0.845446   0.854549 -0.151419   \n",
      "3999  0.405409 -0.453071   0.304496    -1.525439   0.390954 -0.680212   \n",
      "4000       NaN       NaN        NaN          NaN        NaN       NaN   \n",
      "\n",
      "                                Acidity  \n",
      "0                          -0.491590483  \n",
      "1                          -0.722809367  \n",
      "2                           2.621636473  \n",
      "3                           0.790723217  \n",
      "4                           0.501984036  \n",
      "...                                 ...  \n",
      "3996                        1.854235285  \n",
      "3997                       -1.334611391  \n",
      "3998                       -2.229719806  \n",
      "3999                        1.599796456  \n",
      "4000  Created_by_Nidula_Elgiriyewithana  \n",
      "\n",
      "[4001 rows x 7 columns] 0       1\n",
      "1       1\n",
      "2       0\n",
      "3       1\n",
      "4       1\n",
      "       ..\n",
      "3996    1\n",
      "3997    0\n",
      "3998    1\n",
      "3999    1\n",
      "4000    2\n",
      "Name: Quality, Length: 4001, dtype: int64\n"
     ]
    }
   ],
   "source": [
    "xSample = cleared_dataset.drop(\"Quality\", axis=1)\n",
    "ySample = cleared_dataset.Quality\n",
    "\n",
    "print(xSample,ySample)"
   ]
  },
  {
   "cell_type": "code",
   "execution_count": 7,
   "metadata": {},
   "outputs": [
    {
     "name": "stdout",
     "output_type": "stream",
     "text": [
      "\n",
      "    xTrain: (2400, 7),\n",
      "    xTest: (801, 7), \n",
      "    xValidation: (800, 7)\n",
      "    \n",
      "    yTrain: (2400,),\n",
      "    yTest: (801,), \n",
      "    yValidation: (800,)\n"
     ]
    }
   ],
   "source": [
    "from sklearn.model_selection import train_test_split\n",
    "\n",
    "xTrain, xTest, yTrain, yTest = train_test_split(xSample,ySample,test_size=0.2,random_state=42) \n",
    "\n",
    "xTrain, xValidation, yTrain, yValidation = train_test_split(xTrain,yTrain,test_size=0.25,random_state=42)\n",
    "print(f\"\"\"\n",
    "    xTrain: {xTrain.shape},\n",
    "    xTest: {xTest.shape}, \n",
    "    xValidation: {xValidation.shape}\n",
    "    \n",
    "    yTrain: {yTrain.shape},\n",
    "    yTest: {yTest.shape}, \n",
    "    yValidation: {yValidation.shape}\"\"\")"
   ]
  },
  {
   "cell_type": "code",
   "execution_count": 8,
   "metadata": {},
   "outputs": [],
   "source": [
    "from sklearn. ensemble import RandomForestClassifier\n",
    "from sklearn.metrics import classification_report, confusion_matrix\n",
    "\n",
    "model = RandomForestClassifier(random_state=21)\n",
    "model.fit(xTrain,yTrain)\n",
    "\n",
    "y_test_prediction = model.predict(xTest)\n"
   ]
  },
  {
   "cell_type": "code",
   "execution_count": 9,
   "metadata": {},
   "outputs": [
    {
     "name": "stdout",
     "output_type": "stream",
     "text": [
      "              precision    recall  f1-score   support\n",
      "\n",
      "           0       0.90      0.90      0.90       391\n",
      "           1       0.90      0.90      0.90       410\n",
      "\n",
      "    accuracy                           0.90       801\n",
      "   macro avg       0.90      0.90      0.90       801\n",
      "weighted avg       0.90      0.90      0.90       801\n",
      "\n"
     ]
    }
   ],
   "source": [
    "print(classification_report(yTest, y_test_prediction))"
   ]
  },
  {
   "cell_type": "code",
   "execution_count": 10,
   "metadata": {},
   "outputs": [
    {
     "name": "stdout",
     "output_type": "stream",
     "text": [
      "[[350  41]\n",
      " [ 39 371]]\n"
     ]
    }
   ],
   "source": [
    "print(confusion_matrix(yTest, y_test_prediction))"
   ]
  }
 ],
 "metadata": {
  "kernelspec": {
   "display_name": "btk-manisa",
   "language": "python",
   "name": "python3"
  },
  "language_info": {
   "codemirror_mode": {
    "name": "ipython",
    "version": 3
   },
   "file_extension": ".py",
   "mimetype": "text/x-python",
   "name": "python",
   "nbconvert_exporter": "python",
   "pygments_lexer": "ipython3",
   "version": "3.10.7"
  }
 },
 "nbformat": 4,
 "nbformat_minor": 2
}
