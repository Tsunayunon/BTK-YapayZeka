{
 "cells": [
  {
   "cell_type": "code",
   "execution_count": 14,
   "metadata": {},
   "outputs": [
    {
     "name": "stdout",
     "output_type": "stream",
     "text": [
      "    gender  ssc_percentage ssc_board  hsc_percentage hsc_board hsc_subject  \\\n",
      "0        M           67.00    Others           91.00    Others    Commerce   \n",
      "1        M           79.33   Central           78.33    Others     Science   \n",
      "2        M           65.00   Central           68.00   Central        Arts   \n",
      "3        M           56.00   Central           52.00   Central     Science   \n",
      "4        M           85.80   Central           73.60   Central    Commerce   \n",
      "..     ...             ...       ...             ...       ...         ...   \n",
      "210      M           80.60    Others           82.00    Others    Commerce   \n",
      "211      M           58.00    Others           60.00    Others     Science   \n",
      "212      M           67.00    Others           67.00    Others    Commerce   \n",
      "213      F           74.00    Others           66.00    Others    Commerce   \n",
      "214      M           62.00   Central           58.00    Others     Science   \n",
      "\n",
      "     degree_percentage undergrad_degree work_experience  emp_test_percentage  \\\n",
      "0                58.00         Sci&Tech              No                 55.0   \n",
      "1                77.48         Sci&Tech             Yes                 86.5   \n",
      "2                64.00        Comm&Mgmt              No                 75.0   \n",
      "3                52.00         Sci&Tech              No                 66.0   \n",
      "4                73.30        Comm&Mgmt              No                 96.8   \n",
      "..                 ...              ...             ...                  ...   \n",
      "210              77.60        Comm&Mgmt              No                 91.0   \n",
      "211              72.00         Sci&Tech              No                 74.0   \n",
      "212              73.00        Comm&Mgmt             Yes                 59.0   \n",
      "213              58.00        Comm&Mgmt              No                 70.0   \n",
      "214              53.00        Comm&Mgmt              No                 89.0   \n",
      "\n",
      "    specialisation  mba_percent      status  \n",
      "0           Mkt&HR        58.80      Placed  \n",
      "1          Mkt&Fin        66.28      Placed  \n",
      "2          Mkt&Fin        57.80      Placed  \n",
      "3           Mkt&HR        59.43  Not Placed  \n",
      "4          Mkt&Fin        55.50      Placed  \n",
      "..             ...          ...         ...  \n",
      "210        Mkt&Fin        74.49      Placed  \n",
      "211        Mkt&Fin        53.62      Placed  \n",
      "212        Mkt&Fin        69.72      Placed  \n",
      "213         Mkt&HR        60.23      Placed  \n",
      "214         Mkt&HR        60.22  Not Placed  \n",
      "\n",
      "[215 rows x 13 columns]\n"
     ]
    }
   ],
   "source": [
    "import pandas as  pd\n",
    "dataset = pd.read_csv(r\"Job_Placement_Data.csv\")\n",
    "\n",
    "print(dataset)"
   ]
  },
  {
   "cell_type": "code",
   "execution_count": 15,
   "metadata": {},
   "outputs": [
    {
     "name": "stdout",
     "output_type": "stream",
     "text": [
      "<class 'pandas.core.frame.DataFrame'>\n",
      "RangeIndex: 215 entries, 0 to 214\n",
      "Data columns (total 13 columns):\n",
      " #   Column               Non-Null Count  Dtype  \n",
      "---  ------               --------------  -----  \n",
      " 0   gender               215 non-null    object \n",
      " 1   ssc_percentage       215 non-null    float64\n",
      " 2   ssc_board            215 non-null    object \n",
      " 3   hsc_percentage       215 non-null    float64\n",
      " 4   hsc_board            215 non-null    object \n",
      " 5   hsc_subject          215 non-null    object \n",
      " 6   degree_percentage    215 non-null    float64\n",
      " 7   undergrad_degree     215 non-null    object \n",
      " 8   work_experience      215 non-null    object \n",
      " 9   emp_test_percentage  215 non-null    float64\n",
      " 10  specialisation       215 non-null    object \n",
      " 11  mba_percent          215 non-null    float64\n",
      " 12  status               215 non-null    object \n",
      "dtypes: float64(5), object(8)\n",
      "memory usage: 22.0+ KB\n",
      "None\n"
     ]
    }
   ],
   "source": [
    "print(dataset.info())"
   ]
  },
  {
   "cell_type": "code",
   "execution_count": 16,
   "metadata": {},
   "outputs": [],
   "source": [
    "xSample = dataset.iloc[:,1:12]\n",
    "ySample = dataset.status"
   ]
  },
  {
   "cell_type": "code",
   "execution_count": 17,
   "metadata": {},
   "outputs": [
    {
     "name": "stdout",
     "output_type": "stream",
     "text": [
      "[1 1 1 0 1 0 0 1 1 0 1 1 0 1 0 1 1 0 0 1 1 1 1 1 1 0 1 1 1 0 1 0 1 1 0 1 0\n",
      " 1 1 1 1 0 0 1 1 0 0 1 1 0 1 0 0 1 1 1 1 1 1 1 1 1 1 0 1 0 1 1 0 1 1 1 1 1\n",
      " 1 0 1 1 1 0 1 1 0 1 1 1 1 0 1 1 1 0 1 0 1 1 1 0 1 0 0 1 1 1 1 0 0 1 1 0 1\n",
      " 0 1 1 1 1 1 1 1 1 0 1 1 1 1 1 1 1 1 1 0 1 1 1 1 1 0 1 1 1 1 0 1 1 0 1 1 1\n",
      " 1 0 1 1 1 1 1 0 1 1 0 0 1 0 1 1 1 0 1 0 0 0 0 1 1 0 1 0 1 1 1 0 1 0 0 1 0\n",
      " 1 0 1 0 0 0 1 1 1 0 1 1 1 0 1 1 0 1 1 1 1 0 1 0 1 1 1 1 1 0]\n",
      "['Not Placed' 'Placed']\n"
     ]
    }
   ],
   "source": [
    "from sklearn.preprocessing import LabelEncoder\n",
    "\n",
    "le = LabelEncoder()\n",
    "\n",
    "ySample = le.fit_transform(ySample)\n",
    "ySampleName = le.classes_#!!!!  #category name\n",
    "\n",
    "print(ySample)\n",
    "print(ySampleName)"
   ]
  },
  {
   "cell_type": "code",
   "execution_count": 18,
   "metadata": {},
   "outputs": [
    {
     "name": "stdout",
     "output_type": "stream",
     "text": [
      "     ssc_percentage  ssc_board  hsc_percentage hsc_board hsc_subject  \\\n",
      "0             67.00          1           91.00    Others    Commerce   \n",
      "1             79.33          0           78.33    Others     Science   \n",
      "2             65.00          0           68.00   Central        Arts   \n",
      "3             56.00          0           52.00   Central     Science   \n",
      "4             85.80          0           73.60   Central    Commerce   \n",
      "..              ...        ...             ...       ...         ...   \n",
      "210           80.60          1           82.00    Others    Commerce   \n",
      "211           58.00          1           60.00    Others     Science   \n",
      "212           67.00          1           67.00    Others    Commerce   \n",
      "213           74.00          1           66.00    Others    Commerce   \n",
      "214           62.00          0           58.00    Others     Science   \n",
      "\n",
      "     degree_percentage undergrad_degree work_experience  emp_test_percentage  \\\n",
      "0                58.00         Sci&Tech              No                 55.0   \n",
      "1                77.48         Sci&Tech             Yes                 86.5   \n",
      "2                64.00        Comm&Mgmt              No                 75.0   \n",
      "3                52.00         Sci&Tech              No                 66.0   \n",
      "4                73.30        Comm&Mgmt              No                 96.8   \n",
      "..                 ...              ...             ...                  ...   \n",
      "210              77.60        Comm&Mgmt              No                 91.0   \n",
      "211              72.00         Sci&Tech              No                 74.0   \n",
      "212              73.00        Comm&Mgmt             Yes                 59.0   \n",
      "213              58.00        Comm&Mgmt              No                 70.0   \n",
      "214              53.00        Comm&Mgmt              No                 89.0   \n",
      "\n",
      "    specialisation  mba_percent  \n",
      "0           Mkt&HR        58.80  \n",
      "1          Mkt&Fin        66.28  \n",
      "2          Mkt&Fin        57.80  \n",
      "3           Mkt&HR        59.43  \n",
      "4          Mkt&Fin        55.50  \n",
      "..             ...          ...  \n",
      "210        Mkt&Fin        74.49  \n",
      "211        Mkt&Fin        53.62  \n",
      "212        Mkt&Fin        69.72  \n",
      "213         Mkt&HR        60.23  \n",
      "214         Mkt&HR        60.22  \n",
      "\n",
      "[215 rows x 11 columns]\n",
      "     ssc_percentage  ssc_board  hsc_percentage  hsc_board hsc_subject  \\\n",
      "0             67.00          1           91.00          1    Commerce   \n",
      "1             79.33          0           78.33          1     Science   \n",
      "2             65.00          0           68.00          0        Arts   \n",
      "3             56.00          0           52.00          0     Science   \n",
      "4             85.80          0           73.60          0    Commerce   \n",
      "..              ...        ...             ...        ...         ...   \n",
      "210           80.60          1           82.00          1    Commerce   \n",
      "211           58.00          1           60.00          1     Science   \n",
      "212           67.00          1           67.00          1    Commerce   \n",
      "213           74.00          1           66.00          1    Commerce   \n",
      "214           62.00          0           58.00          1     Science   \n",
      "\n",
      "     degree_percentage undergrad_degree work_experience  emp_test_percentage  \\\n",
      "0                58.00         Sci&Tech              No                 55.0   \n",
      "1                77.48         Sci&Tech             Yes                 86.5   \n",
      "2                64.00        Comm&Mgmt              No                 75.0   \n",
      "3                52.00         Sci&Tech              No                 66.0   \n",
      "4                73.30        Comm&Mgmt              No                 96.8   \n",
      "..                 ...              ...             ...                  ...   \n",
      "210              77.60        Comm&Mgmt              No                 91.0   \n",
      "211              72.00         Sci&Tech              No                 74.0   \n",
      "212              73.00        Comm&Mgmt             Yes                 59.0   \n",
      "213              58.00        Comm&Mgmt              No                 70.0   \n",
      "214              53.00        Comm&Mgmt              No                 89.0   \n",
      "\n",
      "    specialisation  mba_percent  \n",
      "0           Mkt&HR        58.80  \n",
      "1          Mkt&Fin        66.28  \n",
      "2          Mkt&Fin        57.80  \n",
      "3           Mkt&HR        59.43  \n",
      "4          Mkt&Fin        55.50  \n",
      "..             ...          ...  \n",
      "210        Mkt&Fin        74.49  \n",
      "211        Mkt&Fin        53.62  \n",
      "212        Mkt&Fin        69.72  \n",
      "213         Mkt&HR        60.23  \n",
      "214         Mkt&HR        60.22  \n",
      "\n",
      "[215 rows x 11 columns]\n",
      "     ssc_percentage  ssc_board  hsc_percentage  hsc_board  hsc_subject  \\\n",
      "0             67.00          1           91.00          1            1   \n",
      "1             79.33          0           78.33          1            2   \n",
      "2             65.00          0           68.00          0            0   \n",
      "3             56.00          0           52.00          0            2   \n",
      "4             85.80          0           73.60          0            1   \n",
      "..              ...        ...             ...        ...          ...   \n",
      "210           80.60          1           82.00          1            1   \n",
      "211           58.00          1           60.00          1            2   \n",
      "212           67.00          1           67.00          1            1   \n",
      "213           74.00          1           66.00          1            1   \n",
      "214           62.00          0           58.00          1            2   \n",
      "\n",
      "     degree_percentage undergrad_degree work_experience  emp_test_percentage  \\\n",
      "0                58.00         Sci&Tech              No                 55.0   \n",
      "1                77.48         Sci&Tech             Yes                 86.5   \n",
      "2                64.00        Comm&Mgmt              No                 75.0   \n",
      "3                52.00         Sci&Tech              No                 66.0   \n",
      "4                73.30        Comm&Mgmt              No                 96.8   \n",
      "..                 ...              ...             ...                  ...   \n",
      "210              77.60        Comm&Mgmt              No                 91.0   \n",
      "211              72.00         Sci&Tech              No                 74.0   \n",
      "212              73.00        Comm&Mgmt             Yes                 59.0   \n",
      "213              58.00        Comm&Mgmt              No                 70.0   \n",
      "214              53.00        Comm&Mgmt              No                 89.0   \n",
      "\n",
      "    specialisation  mba_percent  \n",
      "0           Mkt&HR        58.80  \n",
      "1          Mkt&Fin        66.28  \n",
      "2          Mkt&Fin        57.80  \n",
      "3           Mkt&HR        59.43  \n",
      "4          Mkt&Fin        55.50  \n",
      "..             ...          ...  \n",
      "210        Mkt&Fin        74.49  \n",
      "211        Mkt&Fin        53.62  \n",
      "212        Mkt&Fin        69.72  \n",
      "213         Mkt&HR        60.23  \n",
      "214         Mkt&HR        60.22  \n",
      "\n",
      "[215 rows x 11 columns]\n",
      "     ssc_percentage  ssc_board  hsc_percentage  hsc_board  hsc_subject  \\\n",
      "0             67.00          1           91.00          1            1   \n",
      "1             79.33          0           78.33          1            2   \n",
      "2             65.00          0           68.00          0            0   \n",
      "3             56.00          0           52.00          0            2   \n",
      "4             85.80          0           73.60          0            1   \n",
      "..              ...        ...             ...        ...          ...   \n",
      "210           80.60          1           82.00          1            1   \n",
      "211           58.00          1           60.00          1            2   \n",
      "212           67.00          1           67.00          1            1   \n",
      "213           74.00          1           66.00          1            1   \n",
      "214           62.00          0           58.00          1            2   \n",
      "\n",
      "     degree_percentage  undergrad_degree work_experience  emp_test_percentage  \\\n",
      "0                58.00                 2              No                 55.0   \n",
      "1                77.48                 2             Yes                 86.5   \n",
      "2                64.00                 0              No                 75.0   \n",
      "3                52.00                 2              No                 66.0   \n",
      "4                73.30                 0              No                 96.8   \n",
      "..                 ...               ...             ...                  ...   \n",
      "210              77.60                 0              No                 91.0   \n",
      "211              72.00                 2              No                 74.0   \n",
      "212              73.00                 0             Yes                 59.0   \n",
      "213              58.00                 0              No                 70.0   \n",
      "214              53.00                 0              No                 89.0   \n",
      "\n",
      "    specialisation  mba_percent  \n",
      "0           Mkt&HR        58.80  \n",
      "1          Mkt&Fin        66.28  \n",
      "2          Mkt&Fin        57.80  \n",
      "3           Mkt&HR        59.43  \n",
      "4          Mkt&Fin        55.50  \n",
      "..             ...          ...  \n",
      "210        Mkt&Fin        74.49  \n",
      "211        Mkt&Fin        53.62  \n",
      "212        Mkt&Fin        69.72  \n",
      "213         Mkt&HR        60.23  \n",
      "214         Mkt&HR        60.22  \n",
      "\n",
      "[215 rows x 11 columns]\n",
      "     ssc_percentage  ssc_board  hsc_percentage  hsc_board  hsc_subject  \\\n",
      "0             67.00          1           91.00          1            1   \n",
      "1             79.33          0           78.33          1            2   \n",
      "2             65.00          0           68.00          0            0   \n",
      "3             56.00          0           52.00          0            2   \n",
      "4             85.80          0           73.60          0            1   \n",
      "..              ...        ...             ...        ...          ...   \n",
      "210           80.60          1           82.00          1            1   \n",
      "211           58.00          1           60.00          1            2   \n",
      "212           67.00          1           67.00          1            1   \n",
      "213           74.00          1           66.00          1            1   \n",
      "214           62.00          0           58.00          1            2   \n",
      "\n",
      "     degree_percentage  undergrad_degree  work_experience  \\\n",
      "0                58.00                 2                0   \n",
      "1                77.48                 2                1   \n",
      "2                64.00                 0                0   \n",
      "3                52.00                 2                0   \n",
      "4                73.30                 0                0   \n",
      "..                 ...               ...              ...   \n",
      "210              77.60                 0                0   \n",
      "211              72.00                 2                0   \n",
      "212              73.00                 0                1   \n",
      "213              58.00                 0                0   \n",
      "214              53.00                 0                0   \n",
      "\n",
      "     emp_test_percentage specialisation  mba_percent  \n",
      "0                   55.0         Mkt&HR        58.80  \n",
      "1                   86.5        Mkt&Fin        66.28  \n",
      "2                   75.0        Mkt&Fin        57.80  \n",
      "3                   66.0         Mkt&HR        59.43  \n",
      "4                   96.8        Mkt&Fin        55.50  \n",
      "..                   ...            ...          ...  \n",
      "210                 91.0        Mkt&Fin        74.49  \n",
      "211                 74.0        Mkt&Fin        53.62  \n",
      "212                 59.0        Mkt&Fin        69.72  \n",
      "213                 70.0         Mkt&HR        60.23  \n",
      "214                 89.0         Mkt&HR        60.22  \n",
      "\n",
      "[215 rows x 11 columns]\n",
      "     ssc_percentage  ssc_board  hsc_percentage  hsc_board  hsc_subject  \\\n",
      "0             67.00          1           91.00          1            1   \n",
      "1             79.33          0           78.33          1            2   \n",
      "2             65.00          0           68.00          0            0   \n",
      "3             56.00          0           52.00          0            2   \n",
      "4             85.80          0           73.60          0            1   \n",
      "..              ...        ...             ...        ...          ...   \n",
      "210           80.60          1           82.00          1            1   \n",
      "211           58.00          1           60.00          1            2   \n",
      "212           67.00          1           67.00          1            1   \n",
      "213           74.00          1           66.00          1            1   \n",
      "214           62.00          0           58.00          1            2   \n",
      "\n",
      "     degree_percentage  undergrad_degree  work_experience  \\\n",
      "0                58.00                 2                0   \n",
      "1                77.48                 2                1   \n",
      "2                64.00                 0                0   \n",
      "3                52.00                 2                0   \n",
      "4                73.30                 0                0   \n",
      "..                 ...               ...              ...   \n",
      "210              77.60                 0                0   \n",
      "211              72.00                 2                0   \n",
      "212              73.00                 0                1   \n",
      "213              58.00                 0                0   \n",
      "214              53.00                 0                0   \n",
      "\n",
      "     emp_test_percentage  specialisation  mba_percent  \n",
      "0                   55.0               1        58.80  \n",
      "1                   86.5               0        66.28  \n",
      "2                   75.0               0        57.80  \n",
      "3                   66.0               1        59.43  \n",
      "4                   96.8               0        55.50  \n",
      "..                   ...             ...          ...  \n",
      "210                 91.0               0        74.49  \n",
      "211                 74.0               0        53.62  \n",
      "212                 59.0               0        69.72  \n",
      "213                 70.0               1        60.23  \n",
      "214                 89.0               1        60.22  \n",
      "\n",
      "[215 rows x 11 columns]\n"
     ]
    }
   ],
   "source": [
    "list = [\"ssc_board\",\"hsc_board\",\"hsc_subject\",\"undergrad_degree\",\"work_experience\",\"specialisation\"]\n",
    "\n",
    "for li in list:\n",
    "    xSample[li] = le.fit_transform(xSample[li])\n",
    "\n",
    "    print(xSample)"
   ]
  },
  {
   "cell_type": "code",
   "execution_count": 19,
   "metadata": {},
   "outputs": [
    {
     "name": "stdout",
     "output_type": "stream",
     "text": [
      "                     ssc_percentage  ssc_board  hsc_percentage  hsc_board  \\\n",
      "ssc_percentage             1.000000   0.116194        0.511472   0.066996   \n",
      "ssc_board                  0.116194   1.000000       -0.137013   0.605883   \n",
      "hsc_percentage             0.511472  -0.137013        1.000000  -0.019548   \n",
      "hsc_board                  0.066996   0.605883       -0.019548   1.000000   \n",
      "hsc_subject                0.236364   0.050919       -0.164091   0.152227   \n",
      "degree_percentage          0.538404   0.038070        0.434206   0.067229   \n",
      "undergrad_degree           0.205896   0.100863       -0.086450   0.057960   \n",
      "work_experience            0.175675  -0.040744        0.141025   0.038357   \n",
      "emp_test_percentage        0.261993  -0.018991        0.245113   0.039108   \n",
      "specialisation            -0.172536  -0.051565       -0.241630   0.002232   \n",
      "mba_percent                0.388478   0.083120        0.354823   0.090201   \n",
      "\n",
      "                     hsc_subject  degree_percentage  undergrad_degree  \\\n",
      "ssc_percentage          0.236364           0.538404          0.205896   \n",
      "ssc_board               0.050919           0.038070          0.100863   \n",
      "hsc_percentage         -0.164091           0.434206         -0.086450   \n",
      "hsc_board               0.152227           0.067229          0.057960   \n",
      "hsc_subject             1.000000           0.137276          0.596300   \n",
      "degree_percentage       0.137276           1.000000          0.079317   \n",
      "undergrad_degree        0.596300           0.079317          1.000000   \n",
      "work_experience         0.007856           0.122648          0.105816   \n",
      "emp_test_percentage     0.075643           0.224470          0.011509   \n",
      "specialisation          0.172107          -0.218286          0.084361   \n",
      "mba_percent             0.039345           0.402364          0.116666   \n",
      "\n",
      "                     work_experience  emp_test_percentage  specialisation  \\\n",
      "ssc_percentage              0.175675             0.261993       -0.172536   \n",
      "ssc_board                  -0.040744            -0.018991       -0.051565   \n",
      "hsc_percentage              0.141025             0.245113       -0.241630   \n",
      "hsc_board                   0.038357             0.039108        0.002232   \n",
      "hsc_subject                 0.007856             0.075643        0.172107   \n",
      "degree_percentage           0.122648             0.224470       -0.218286   \n",
      "undergrad_degree            0.105816             0.011509        0.084361   \n",
      "work_experience             1.000000             0.056735       -0.191174   \n",
      "emp_test_percentage         0.056735             1.000000       -0.236315   \n",
      "specialisation             -0.191174            -0.236315        1.000000   \n",
      "mba_percent                 0.168811             0.218055       -0.105728   \n",
      "\n",
      "                     mba_percent  \n",
      "ssc_percentage          0.388478  \n",
      "ssc_board               0.083120  \n",
      "hsc_percentage          0.354823  \n",
      "hsc_board               0.090201  \n",
      "hsc_subject             0.039345  \n",
      "degree_percentage       0.402364  \n",
      "undergrad_degree        0.116666  \n",
      "work_experience         0.168811  \n",
      "emp_test_percentage     0.218055  \n",
      "specialisation         -0.105728  \n",
      "mba_percent             1.000000  \n"
     ]
    }
   ],
   "source": [
    "print(xSample.corr()) #correlation"
   ]
  },
  {
   "cell_type": "code",
   "execution_count": 20,
   "metadata": {},
   "outputs": [
    {
     "data": {
      "image/png": "[encoded data removed]",
      "text/plain": [
       "<Figure size 640x480 with 1 Axes>"
      ]
     },
     "metadata": {},
     "output_type": "display_data"
    }
   ],
   "source": [
    "import matplotlib.pyplot as plt\n",
    "\n",
    "x = xSample.iloc[:,0]\n",
    "y = pd.Series(ySample)\n",
    "\n",
    "x1 = xSample.iloc[:,2]\n",
    "colors ={0:\"red\",1:\"green\"}\n",
    "plt.scatter(x, x1, c= y.map(colors))\n",
    "plt.show()\n"
   ]
  },
  {
   "cell_type": "code",
   "execution_count": 21,
   "metadata": {},
   "outputs": [
    {
     "name": "stdout",
     "output_type": "stream",
     "text": [
      "\n",
      "    xTrain: (172, 11),\n",
      "    xTest: (43, 11), \n",
      "    \n",
      "    yTrain: (172,),\n",
      "    yTest: (43,)\n",
      "    \n"
     ]
    }
   ],
   "source": [
    "from sklearn.model_selection import train_test_split\n",
    "\n",
    "xTrain, xTest, yTrain, yTest = train_test_split(xSample,ySample,test_size=0.2,random_state=42) \n",
    "\n",
    "print(f\"\"\"\n",
    "    xTrain: {xTrain.shape},\n",
    "    xTest: {xTest.shape}, \n",
    "    \n",
    "    yTrain: {yTrain.shape},\n",
    "    yTest: {yTest.shape}\n",
    "    \"\"\")"
   ]
  },
  {
   "cell_type": "code",
   "execution_count": 22,
   "metadata": {},
   "outputs": [],
   "source": [
    "from sklearn. neighbors import KNeighborsClassifier as NGC\n",
    "from sklearn.metrics import classification_report, confusion_matrix\n",
    "\n",
    "classifier_model = NGC(n_neighbors=5,metric=\"minkowski\", p=1) #hiperparametre optimizasyonları düzenlenebilir!\n",
    "classifier_model.fit(xTrain,yTrain)\n",
    "\n",
    "y_test_prediction = classifier_model.predict(xTest)"
   ]
  },
  {
   "cell_type": "code",
   "execution_count": 23,
   "metadata": {},
   "outputs": [],
   "source": [
    "#Desicion Tree ALgorithm\n",
    "\n",
    "from sklearn.tree import DecisionTreeClassifier\n",
    "\n",
    "model = DecisionTreeClassifier(criterion=\"gini\", splitter=\"best\",random_state=42)  #gini, entropi, 3rd?\n",
    "model.fit(xTrain,yTrain)\n",
    "y_test_prediction = model.predict(xTest)"
   ]
  },
  {
   "cell_type": "code",
   "execution_count": 24,
   "metadata": {},
   "outputs": [],
   "source": [
    "import pandas as pd\n",
    "from sklearn.ensemble import RandomForestClassifier\n",
    "from sklearn.metrics import classification_report,confusion_matrix\n",
    "\n",
    "#RandomForestClassifier \n",
    "model = RandomForestClassifier(n_estimators = 1000) #estimators: kaç tane karar ağacıyla belirlenecğine bakar\n",
    "model.fit(xTrain,yTrain)\n",
    "y_test_prediction = model.predict(xTest)"
   ]
  },
  {
   "cell_type": "markdown",
   "metadata": {},
   "source": [
    "SVM(Support Vector Machine): Düzlem üzerine yerleştirilmiş noktalari ayirmak için kullanilir.\n",
    "Amaci iki sinifin noktalarinin maksimum uzaklikta olmasını sağlamak. Karmaşık ama orta-küçük \n",
    "veri setleri için uygun. \n",
    "\n",
    "C parametresi ile margini kontrol edebiliriz. C ne kadar büyükse margin o kadar dardır.Model overfite doğru kayıyorsa C azaltılabilir.\n",
    "\n",
    "Hard Margin: Noktaları kesin olarak ayrılması konusunda çok hassastır. Sınıflandırmayı güçleştirir.\n",
    "Soft Margin: Noktalar birbiriyle iç içe geçebilir.\n",
    "\n",
    "SVM Kernel: Karmaşık datasetlerini ayırmada kernellerın yardımı dokunur. Elimizdeki verileri kernel fonksiyonlarıyla çarparak daha iyi sonuçlar alabiliriz.\n",
    "\n",
    "Linear Kernel: Doğrusal,Daha hızlı\n",
    "\n",
    "Gaussian Radial Basis Function(RBF): Linear olmayan değerler için kullanılır, gama parametresi eklenir, sklearn default kütüphanesidir. En çok tercih edilen gama değeri 0.1'dir.\n",
    "\n",
    "Sigmoid Kernel: Genellikle yapay sinir ağlarında kullanılır."
   ]
  },
  {
   "cell_type": "code",
   "execution_count": 25,
   "metadata": {},
   "outputs": [
    {
     "name": "stdout",
     "output_type": "stream",
     "text": [
      "[1 1 1 0 1 0 0 1 1 1 1 1 0 1 1 1 1 1 0 1 1 1 1 0 1 1 1 1 1 1 1 1 1 1 1 1 1\n",
      " 1 1 1 1 1 1]\n",
      "[1 1 1 1 1 0 0 1 1 1 0 1 0 0 1 0 1 0 1 1 1 1 0 0 1 1 0 1 0 1 1 1 1 1 1 1 0\n",
      " 1 1 1 1 1 1]\n"
     ]
    }
   ],
   "source": [
    "from sklearn.svm import SVC\n",
    "\n",
    "classifier_model = SVC(C=5, kernel='rbf',gamma=0.1)\n",
    "classifier_model.fit(xTrain,yTrain)\n",
    "y_test_prediction =  model.predict(xTest)\n",
    "print(y_test_prediction)\n",
    "print(yTest)"
   ]
  },
  {
   "cell_type": "markdown",
   "metadata": {},
   "source": [
    "Naive Bayes: Sınıfını tespit etmeyi amaçlar. Gerçek dünya durumlarında beklenenden iyi çalışır. Bayes Teoremine dayanır.\n",
    "Alakasız özelliklerle ilişkiye girmemektedir. Zor verilerde çalışabilir. Az verilerde iyi iş çıkarır. Basit ve kolaydır.\n",
    "Gaussian Naive Bayes: Continious verilerle çalışır.\n",
    "Multinominal Naive Bayes: Çok sınıflı kategorilerde kullanılır.\n",
    "Bernoulli Naive Bayes: Multinonominalden farkı boolean(ikili) sınıflandırma yapar."
   ]
  },
  {
   "cell_type": "code",
   "execution_count": 26,
   "metadata": {},
   "outputs": [
    {
     "name": "stdout",
     "output_type": "stream",
     "text": [
      "[1 1 1 1 1 0 0 1 1 1 1 1 1 1 1 0 1 1 0 1 1 1 0 0 1 1 0 1 1 1 1 1 1 1 1 1 0\n",
      " 1 1 1 1 1 1]\n",
      "[1 1 1 1 1 0 0 1 1 1 0 1 0 0 1 0 1 0 1 1 1 1 0 0 1 1 0 1 0 1 1 1 1 1 1 1 0\n",
      " 1 1 1 1 1 1]\n"
     ]
    }
   ],
   "source": [
    "from sklearn.naive_bayes import MultinomialNB\n",
    "model = MultinomialNB()\n",
    "model.fit(xTrain,yTrain)\n",
    "y_test_prediction =  model.predict(xTest)\n",
    "print(y_test_prediction)\n",
    "print(yTest)"
   ]
  },
  {
   "cell_type": "markdown",
   "metadata": {},
   "source": [
    "Logistic Regression : Hem binary hem multiclass classification için kullanılır.\n",
    "Formülü sigmoinddir. Optimizasyon problemlerinde kullanılacak olan algoritmadır. Küçük veriler için liblinear, büyükler için sag veya saga kullanılır.\n",
    "\n",
    "Avantajları: Uygulaması da yorumlaması da kolaydır. Linear veri setlerinde mükemmele yakın çalışır. Overfit'e daha az meyillidir.\n",
    "\n",
    "Dezavantajları: Gözlem sayısı özellik sayısından azsa kullanılmamalıdır(Overfitting'e neden olabilir.)"
   ]
  },
  {
   "cell_type": "code",
   "execution_count": 27,
   "metadata": {},
   "outputs": [
    {
     "name": "stdout",
     "output_type": "stream",
     "text": [
      "[1 1 1 0 1 0 0 1 1 1 1 1 0 1 1 0 1 0 0 1 1 1 0 0 1 1 0 1 1 1 1 1 1 1 1 1 0\n",
      " 1 1 1 1 1 1]\n",
      "[1 1 1 1 1 0 0 1 1 1 0 1 0 0 1 0 1 0 1 1 1 1 0 0 1 1 0 1 0 1 1 1 1 1 1 1 0\n",
      " 1 1 1 1 1 1]\n"
     ]
    }
   ],
   "source": [
    "from sklearn.linear_model import LogisticRegression\n",
    "model = LogisticRegression(random_state=0,max_iter=1000,solver=\"newton-cg\")\n",
    "model.fit(xTrain,yTrain)\n",
    "y_test_prediction =  model.predict(xTest)\n",
    "print(y_test_prediction)\n",
    "print(yTest)"
   ]
  },
  {
   "cell_type": "code",
   "execution_count": 28,
   "metadata": {},
   "outputs": [
    {
     "name": "stdout",
     "output_type": "stream",
     "text": [
      "              precision    recall  f1-score   support\n",
      "\n",
      "  Not Placed       0.82      0.75      0.78        12\n",
      "      Placed       0.91      0.94      0.92        31\n",
      "\n",
      "    accuracy                           0.88        43\n",
      "   macro avg       0.86      0.84      0.85        43\n",
      "weighted avg       0.88      0.88      0.88        43\n",
      "\n"
     ]
    },
    {
     "data": {
      "image/png": "[encoded data removed]",
      "text/plain": [
       "<Figure size 640x480 with 2 Axes>"
      ]
     },
     "metadata": {},
     "output_type": "display_data"
    }
   ],
   "source": [
    "from sklearn.metrics import classification_report, confusion_matrix, ConfusionMatrixDisplay\n",
    "import matplotlib.pyplot as plt\n",
    "print(classification_report(yTest,y_test_prediction, target_names=[\"Not Placed\",\"Placed\"]))\n",
    "cm = confusion_matrix(yTest, y_test_prediction,normalize=\"true\").round(2)\n",
    "disp = ConfusionMatrixDisplay(confusion_matrix=cm, display_labels=[\"Not Placed\",\"Placed\"])\n",
    "disp = disp.plot(cmap = plt.cm.GnBu, values_format='.3f')\n",
    "plt.title(f\"Train Confusion Matrix\", style=\"italic\")\n",
    "plt.show()"
   ]
  }
 ],
 "metadata": {
  "kernelspec": {
   "display_name": "btk-manisa",
   "language": "python",
   "name": "python3"
  },
  "language_info": {
   "codemirror_mode": {
    "name": "ipython",
    "version": 3
   },
   "file_extension": ".py",
   "mimetype": "text/x-python",
   "name": "python",
   "nbconvert_exporter": "python",
   "pygments_lexer": "ipython3",
   "version": "3.10.7"
  }
 },
 "nbformat": 4,
 "nbformat_minor": 2
}
