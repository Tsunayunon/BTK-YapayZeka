{
 "cells": [
  {
   "cell_type": "code",
   "execution_count": 1,
   "metadata": {},
   "outputs": [],
   "source": [
    "import pandas as pd\n",
    "import numpy as np\n",
    "import matplotlib.pyplot as plt\n",
    "from sklearn.model_selection import train_test_split\n",
    "from sklearn.linear_model import Ridge\n",
    "from sklearn.preprocessing import StandardScaler\n",
    "from sklearn.metrics import mean_squared_error, r2_score, mean_absolute_error"
   ]
  },
  {
   "cell_type": "code",
   "execution_count": 2,
   "metadata": {},
   "outputs": [],
   "source": [
    "from sklearn.datasets import fetch_california_housing\n",
    "housing = fetch_california_housing()\n",
    "\n",
    "x = housing.data\n",
    "y = housing.target"
   ]
  },
  {
   "cell_type": "code",
   "execution_count": 3,
   "metadata": {},
   "outputs": [
    {
     "name": "stdout",
     "output_type": "stream",
     "text": [
      "[[   8.3252       41.            6.98412698 ...    2.55555556\n",
      "    37.88       -122.23      ]\n",
      " [   8.3014       21.            6.23813708 ...    2.10984183\n",
      "    37.86       -122.22      ]\n",
      " [   7.2574       52.            8.28813559 ...    2.80225989\n",
      "    37.85       -122.24      ]\n",
      " ...\n",
      " [   1.7          17.            5.20554273 ...    2.3256351\n",
      "    39.43       -121.22      ]\n",
      " [   1.8672       18.            5.32951289 ...    2.12320917\n",
      "    39.43       -121.32      ]\n",
      " [   2.3886       16.            5.25471698 ...    2.61698113\n",
      "    39.37       -121.24      ]] [4.526 3.585 3.521 ... 0.923 0.847 0.894]\n"
     ]
    }
   ],
   "source": [
    "print(x,y)"
   ]
  },
  {
   "cell_type": "code",
   "execution_count": 4,
   "metadata": {},
   "outputs": [
    {
     "name": "stdout",
     "output_type": "stream",
     "text": [
      "\n",
      "    x: (20640, 8),\n",
      "    y: (20640,)\n",
      "    \n"
     ]
    }
   ],
   "source": [
    "print(f\"\"\"\n",
    "    x: {x.shape},\n",
    "    y: {y.shape}\n",
    "    \"\"\")"
   ]
  },
  {
   "cell_type": "code",
   "execution_count": 5,
   "metadata": {},
   "outputs": [
    {
     "name": "stdout",
     "output_type": "stream",
     "text": [
      "[[ 2.34476576  0.98214266  0.62855945 ... -0.04959654  1.05254828\n",
      "  -1.32783522]\n",
      " [ 2.33223796 -0.60701891  0.32704136 ... -0.09251223  1.04318455\n",
      "  -1.32284391]\n",
      " [ 1.7826994   1.85618152  1.15562047 ... -0.02584253  1.03850269\n",
      "  -1.33282653]\n",
      " ...\n",
      " [-1.14259331 -0.92485123 -0.09031802 ... -0.0717345   1.77823747\n",
      "  -0.8237132 ]\n",
      " [-1.05458292 -0.84539315 -0.04021111 ... -0.09122515  1.77823747\n",
      "  -0.87362627]\n",
      " [-0.78012947 -1.00430931 -0.07044252 ... -0.04368215  1.75014627\n",
      "  -0.83369581]]\n"
     ]
    }
   ],
   "source": [
    "scaler = StandardScaler() ###İmportant\n",
    "x = scaler.fit_transform(x)\n",
    "print(x)"
   ]
  },
  {
   "cell_type": "code",
   "execution_count": 6,
   "metadata": {},
   "outputs": [
    {
     "name": "stdout",
     "output_type": "stream",
     "text": [
      "\n",
      "    xTrain: (16512, 8),\n",
      "    xTest: (4128, 8), \n",
      "    \n",
      "    yTrain: (16512,),\n",
      "    yTest: (4128,)\n",
      "    \n"
     ]
    }
   ],
   "source": [
    "xTrain, xTest, yTrain, yTest = train_test_split(x,y,test_size=0.2,random_state=42)\n",
    "print(f\"\"\"\n",
    "    xTrain: {xTrain.shape},\n",
    "    xTest: {xTest.shape}, \n",
    "    \n",
    "    yTrain: {yTrain.shape},\n",
    "    yTest: {yTest.shape}\n",
    "    \"\"\")"
   ]
  },
  {
   "cell_type": "code",
   "execution_count": 7,
   "metadata": {},
   "outputs": [
    {
     "name": "stdout",
     "output_type": "stream",
     "text": [
      "\n",
      "    Alpha: 0.1\n",
      "    Mean Squared Error(MSE): 0.5558875470324984, \n",
      "    Mean Absoulte Error(MAE): 0.5331994387872138\n",
      "    R^2 Score: 0.5757907979394914\n",
      "    \n",
      "\n",
      "    Alpha: 1\n",
      "    Mean Squared Error(MSE): 0.55585120073675, \n",
      "    Mean Absoulte Error(MAE): 0.5331933646313115\n",
      "    R^2 Score: 0.5758185345441331\n",
      "    \n",
      "\n",
      "    Alpha: 10\n",
      "    Mean Squared Error(MSE): 0.5554993268848031, \n",
      "    Mean Absoulte Error(MAE): 0.5331405296051948\n",
      "    R^2 Score: 0.5760870567061374\n",
      "    \n",
      "\n",
      "    Alpha: 100\n",
      "    Mean Squared Error(MSE): 0.5529971202832114, \n",
      "    Mean Absoulte Error(MAE): 0.533046634205592\n",
      "    R^2 Score: 0.5779965419455857\n",
      "    \n"
     ]
    }
   ],
   "source": [
    "alphas = [0.1,1,10,100] #Alpha büyüdükçe modelin karmaşıklığı azalır.\n",
    "for alpha in alphas:\n",
    "    ridge_reg_model = Ridge(alpha=alpha)\n",
    "\n",
    "    ridge_reg_model = ridge_reg_model.fit(xTrain,yTrain)\n",
    "    yPred = ridge_reg_model.predict(xTest)\n",
    "\n",
    "    mse = mean_squared_error(yTest,yPred)\n",
    "    mae = mean_absolute_error(yTest,yPred)\n",
    "    r2 = r2_score(yTest,yPred)\n",
    "\n",
    "    print(f\"\"\"\n",
    "    Alpha: {alpha}\n",
    "    Mean Squared Error(MSE): {mse}, \n",
    "    Mean Absoulte Error(MAE): {mae}\n",
    "    R^2 Score: {r2}\n",
    "    \"\"\")"
   ]
  }
 ],
 "metadata": {
  "kernelspec": {
   "display_name": "btk-manisa",
   "language": "python",
   "name": "python3"
  },
  "language_info": {
   "codemirror_mode": {
    "name": "ipython",
    "version": 3
   },
   "file_extension": ".py",
   "mimetype": "text/x-python",
   "name": "python",
   "nbconvert_exporter": "python",
   "pygments_lexer": "ipython3",
   "version": "3.10.7"
  }
 },
 "nbformat": 4,
 "nbformat_minor": 2
}
