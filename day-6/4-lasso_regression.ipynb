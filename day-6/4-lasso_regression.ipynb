{
 "cells": [
  {
   "cell_type": "code",
   "execution_count": 1,
   "metadata": {},
   "outputs": [],
   "source": [
    "import pandas as pd\n",
    "import numpy as np\n",
    "import matplotlib.pyplot as plt\n",
    "from sklearn.model_selection import train_test_split\n",
    "from sklearn.linear_model import Lasso\n",
    "from sklearn.preprocessing import StandardScaler\n",
    "from sklearn.metrics import mean_squared_error, r2_score, mean_absolute_error"
   ]
  },
  {
   "cell_type": "code",
   "execution_count": 2,
   "metadata": {},
   "outputs": [],
   "source": [
    "from sklearn.datasets import fetch_california_housing\n",
    "housing = fetch_california_housing()\n",
    "\n",
    "data = pd.DataFrame(housing.data, columns=housing.feature_names)\n",
    "y = housing.target"
   ]
  },
  {
   "cell_type": "code",
   "execution_count": 3,
   "metadata": {},
   "outputs": [
    {
     "name": "stdout",
     "output_type": "stream",
     "text": [
      "       MedInc  HouseAge  AveRooms  AveBedrms  Population  AveOccup  Latitude  \\\n",
      "0      8.3252      41.0  6.984127   1.023810       322.0  2.555556     37.88   \n",
      "1      8.3014      21.0  6.238137   0.971880      2401.0  2.109842     37.86   \n",
      "2      7.2574      52.0  8.288136   1.073446       496.0  2.802260     37.85   \n",
      "3      5.6431      52.0  5.817352   1.073059       558.0  2.547945     37.85   \n",
      "4      3.8462      52.0  6.281853   1.081081       565.0  2.181467     37.85   \n",
      "...       ...       ...       ...        ...         ...       ...       ...   \n",
      "20635  1.5603      25.0  5.045455   1.133333       845.0  2.560606     39.48   \n",
      "20636  2.5568      18.0  6.114035   1.315789       356.0  3.122807     39.49   \n",
      "20637  1.7000      17.0  5.205543   1.120092      1007.0  2.325635     39.43   \n",
      "20638  1.8672      18.0  5.329513   1.171920       741.0  2.123209     39.43   \n",
      "20639  2.3886      16.0  5.254717   1.162264      1387.0  2.616981     39.37   \n",
      "\n",
      "       Longitude  \n",
      "0        -122.23  \n",
      "1        -122.22  \n",
      "2        -122.24  \n",
      "3        -122.25  \n",
      "4        -122.25  \n",
      "...          ...  \n",
      "20635    -121.09  \n",
      "20636    -121.21  \n",
      "20637    -121.22  \n",
      "20638    -121.32  \n",
      "20639    -121.24  \n",
      "\n",
      "[20640 rows x 8 columns] [4.526 3.585 3.521 ... 0.923 0.847 0.894]\n"
     ]
    }
   ],
   "source": [
    "print(data,y)"
   ]
  },
  {
   "cell_type": "code",
   "execution_count": 4,
   "metadata": {},
   "outputs": [
    {
     "name": "stdout",
     "output_type": "stream",
     "text": [
      "\n",
      "    x: (20640, 8),\n",
      "    y: (20640,)\n",
      "    \n"
     ]
    }
   ],
   "source": [
    "print(f\"\"\"\n",
    "    x: {data.shape},\n",
    "    y: {y.shape}\n",
    "    \"\"\")"
   ]
  },
  {
   "cell_type": "code",
   "execution_count": 5,
   "metadata": {},
   "outputs": [
    {
     "name": "stdout",
     "output_type": "stream",
     "text": [
      "[[ 2.34476576  0.98214266  0.62855945 ... -0.04959654  1.05254828\n",
      "  -1.32783522]\n",
      " [ 2.33223796 -0.60701891  0.32704136 ... -0.09251223  1.04318455\n",
      "  -1.32284391]\n",
      " [ 1.7826994   1.85618152  1.15562047 ... -0.02584253  1.03850269\n",
      "  -1.33282653]\n",
      " ...\n",
      " [-1.14259331 -0.92485123 -0.09031802 ... -0.0717345   1.77823747\n",
      "  -0.8237132 ]\n",
      " [-1.05458292 -0.84539315 -0.04021111 ... -0.09122515  1.77823747\n",
      "  -0.87362627]\n",
      " [-0.78012947 -1.00430931 -0.07044252 ... -0.04368215  1.75014627\n",
      "  -0.83369581]]\n"
     ]
    }
   ],
   "source": [
    "scaler = StandardScaler() ###İmportant\n",
    "x = scaler.fit_transform(data)\n",
    "print(x)"
   ]
  },
  {
   "cell_type": "code",
   "execution_count": 6,
   "metadata": {},
   "outputs": [
    {
     "name": "stdout",
     "output_type": "stream",
     "text": [
      "\n",
      "    xTrain: (16512, 8),\n",
      "    xTest: (4128, 8), \n",
      "    \n",
      "    yTrain: (16512,),\n",
      "    yTest: (4128,)\n",
      "    \n"
     ]
    }
   ],
   "source": [
    "xTrain, xTest, yTrain, yTest = train_test_split(x,y,test_size=0.2,random_state=42)\n",
    "print(f\"\"\"\n",
    "    xTrain: {xTrain.shape},\n",
    "    xTest: {xTest.shape}, \n",
    "    \n",
    "    yTrain: {yTrain.shape},\n",
    "    yTest: {yTest.shape}\n",
    "    \"\"\")"
   ]
  },
  {
   "cell_type": "code",
   "execution_count": 7,
   "metadata": {},
   "outputs": [
    {
     "name": "stdout",
     "output_type": "stream",
     "text": [
      "\n",
      "    Alpha: 0.0005\n",
      "    Mean Squared Error(MSE): 0.5551292846413378, \n",
      "    Mean Absoulte Error(MAE): 0.5331694585821993\n",
      "    R^2 Score: 0.5763694435407895\n",
      "    Seçilen Özellikler: Index(['MedInc', 'HouseAge', 'AveRooms', 'AveBedrms', 'Population', 'AveOccup',\n",
      "       'Latitude', 'Longitude'],\n",
      "      dtype='object')\n",
      "    \n",
      "\n",
      "    Alpha: 0.01\n",
      "    Mean Squared Error(MSE): 0.5479327795506, \n",
      "    Mean Absoulte Error(MAE): 0.535523256745153\n",
      "    R^2 Score: 0.581861244352776\n",
      "    Seçilen Özellikler: Index(['MedInc', 'HouseAge', 'AveRooms', 'AveBedrms', 'AveOccup', 'Latitude',\n",
      "       'Longitude'],\n",
      "      dtype='object')\n",
      "    \n",
      "\n",
      "    Alpha: 0.05\n",
      "    Mean Squared Error(MSE): 0.6151244679259968, \n",
      "    Mean Absoulte Error(MAE): 0.5819750136175477\n",
      "    R^2 Score: 0.5305858872000837\n",
      "    Seçilen Özellikler: Index(['MedInc', 'HouseAge', 'Latitude', 'Longitude'], dtype='object')\n",
      "    \n",
      "\n",
      "    Alpha: 0.1\n",
      "    Mean Squared Error(MSE): 0.6795515190149224, \n",
      "    Mean Absoulte Error(MAE): 0.6221475526943097\n",
      "    R^2 Score: 0.4814202815313764\n",
      "    Seçilen Özellikler: Index(['MedInc', 'HouseAge', 'Latitude'], dtype='object')\n",
      "    \n",
      "\n",
      "    Alpha: 0.5\n",
      "    Mean Squared Error(MSE): 0.938900542374707, \n",
      "    Mean Absoulte Error(MAE): 0.7601695560259557\n",
      "    R^2 Score: 0.2835057161809954\n",
      "    Seçilen Özellikler: Index(['MedInc'], dtype='object')\n",
      "    \n",
      "\n",
      "    Alpha: 0.7\n",
      "    Mean Squared Error(MSE): 1.1669186179053066, \n",
      "    Mean Absoulte Error(MAE): 0.8542806506529125\n",
      "    R^2 Score: 0.10950044048707241\n",
      "    Seçilen Özellikler: Index(['MedInc'], dtype='object')\n",
      "    \n"
     ]
    }
   ],
   "source": [
    "alphas = [0.0005,0.01,0.05,0.1,0.5,0.7] #Alpha küçük verilmeli. Büyükte sapıtıyo, seçemiyo\n",
    "for alpha in alphas:\n",
    "    ridge_reg_model = Lasso(alpha=alpha)\n",
    "\n",
    "    ridge_reg_model = ridge_reg_model.fit(xTrain,yTrain)\n",
    "    yPred = ridge_reg_model.predict(xTest)\n",
    "\n",
    "    mse = mean_squared_error(yTest,yPred)\n",
    "    mae = mean_absolute_error(yTest,yPred)\n",
    "    r2 = r2_score(yTest,yPred)\n",
    "    selected_features = data.columns[ridge_reg_model.coef_ != 0]\n",
    "    print(f\"\"\"\n",
    "    Alpha: {alpha}\n",
    "    Mean Squared Error(MSE): {mse}, \n",
    "    Mean Absoulte Error(MAE): {mae}\n",
    "    R^2 Score: {r2}\n",
    "    Seçilen Özellikler: {selected_features}\n",
    "    \"\"\")"
   ]
  }
 ],
 "metadata": {
  "kernelspec": {
   "display_name": "btk-manisa",
   "language": "python",
   "name": "python3"
  },
  "language_info": {
   "codemirror_mode": {
    "name": "ipython",
    "version": 3
   },
   "file_extension": ".py",
   "mimetype": "text/x-python",
   "name": "python",
   "nbconvert_exporter": "python",
   "pygments_lexer": "ipython3",
   "version": "3.10.13"
  }
 },
 "nbformat": 4,
 "nbformat_minor": 2
}
