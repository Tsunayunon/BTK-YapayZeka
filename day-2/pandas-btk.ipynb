{
 "cells": [
  {
   "cell_type": "code",
   "execution_count": 34,
   "metadata": {},
   "outputs": [],
   "source": [
    "import pandas as pd"
   ]
  },
  {
   "cell_type": "code",
   "execution_count": 35,
   "metadata": {},
   "outputs": [
    {
     "name": "stdout",
     "output_type": "stream",
     "text": [
      "2015    120\n",
      "2016    130\n",
      "2017    150\n",
      "2018    180\n",
      "dtype: int64\n",
      "0    1\n",
      "1    2\n",
      "2    3\n",
      "3    4\n",
      "4    5\n",
      "5    6\n",
      "6    7\n",
      "dtype: int64\n"
     ]
    }
   ],
   "source": [
    "a = {2015:120, 2016:130, 2017:150, 2018:180}\n",
    "b= (1,2,3,4,5,6,7)\n",
    "\n",
    "series1 = pd.Series(a)\n",
    "series2 = pd.Series(b)\n",
    "\n",
    "print(series1)\n",
    "print(series2)"
   ]
  },
  {
   "cell_type": "code",
   "execution_count": 36,
   "metadata": {},
   "outputs": [
    {
     "name": "stdout",
     "output_type": "stream",
     "text": [
      "0          1\n",
      "1    Merhaba\n",
      "2       True\n",
      "3       1.23\n",
      "dtype: object\n"
     ]
    }
   ],
   "source": [
    "series3 = pd.Series([1,\"Merhaba\",True,1.23])\n",
    "print(series3)"
   ]
  },
  {
   "cell_type": "code",
   "execution_count": 37,
   "metadata": {},
   "outputs": [
    {
     "name": "stdout",
     "output_type": "stream",
     "text": [
      "Kilo      78\n",
      "Boy      183\n",
      "Yaş       40\n",
      "İsim    Ozan\n",
      "dtype: object\n"
     ]
    }
   ],
   "source": [
    "series4 = pd.Series([78,183,40,\"Ozan\"],index=[\"Kilo\",\"Boy\",\"Yaş\",\"İsim\"])\n",
    "print(series4)"
   ]
  },
  {
   "cell_type": "code",
   "execution_count": 38,
   "metadata": {},
   "outputs": [
    {
     "name": "stdout",
     "output_type": "stream",
     "text": [
      "1      Fiat\n",
      "2        Vw\n",
      "3      Opel\n",
      "4     Mazda\n",
      "5    Toyota\n",
      "dtype: object\n",
      "***************\n",
      "Toyota\n",
      "Hyundai\n",
      "***************\n",
      "1       Fiat\n",
      "2         Vw\n",
      "3       Opel\n",
      "4      Mazda\n",
      "5    Hyundai\n",
      "6    Ferrari\n",
      "dtype: object\n"
     ]
    }
   ],
   "source": [
    "liste = [\"Fiat\",\"Vw\",\"Opel\",\"Mazda\",\"Toyota\"]\n",
    "indis = [i for i in range(1,6)]\n",
    "\n",
    "series = pd.Series(liste,index=indis)\n",
    "print(series)\n",
    "\n",
    "print(\"***************\")\n",
    "\n",
    "print(series[5])\n",
    "series[5] =\"Hyundai\"\n",
    "print(series[5]) #Exchange\n",
    "\n",
    "print(\"***************\")\n",
    "\n",
    "series[6] = \"Ferrari\" #Adding\n",
    "print(series)"
   ]
  },
  {
   "cell_type": "code",
   "execution_count": 39,
   "metadata": {},
   "outputs": [
    {
     "name": "stdout",
     "output_type": "stream",
     "text": [
      "2         Vw\n",
      "5    Hyundai\n",
      "6    Ferrari\n",
      "dtype: object\n"
     ]
    }
   ],
   "source": [
    "series.drop([1,3,4],axis=0,inplace=True)\n",
    "print(series)"
   ]
  },
  {
   "cell_type": "code",
   "execution_count": 40,
   "metadata": {},
   "outputs": [
    {
     "name": "stdout",
     "output_type": "stream",
     "text": [
      "0     Ozan\n",
      "1    Tunay\n",
      "2    İshak\n",
      "3     Ömer\n",
      "4    Ahmet\n",
      "5    Feyza\n",
      "6    Ilgın\n",
      "7    Beyza\n",
      "dtype: object\n"
     ]
    }
   ],
   "source": [
    "list1 = [\"Ozan\",\"Tunay\",\"İshak\",\"Ömer\",\"Ahmet\"]\n",
    "indis1 =[i for i in range(1,6)] \n",
    "\n",
    "list2 = [\"Feyza\",\"Ilgın\",\"Beyza\"]\n",
    "indis2 = [i for i in range(1,4)] \n",
    "\n",
    "erkekler = pd.Series(list1, index=indis1)\n",
    "kadınlar = pd.Series(list2, index=indis2)\n",
    "\n",
    "print(pd.Series(pd.concat([erkekler,kadınlar], ignore_index=True), \n",
    "                index = [i for i in range(0,len(erkekler)+len(kadınlar))]))"
   ]
  },
  {
   "cell_type": "code",
   "execution_count": 41,
   "metadata": {},
   "outputs": [
    {
     "name": "stdout",
     "output_type": "stream",
     "text": [
      "68\n"
     ]
    }
   ],
   "source": [
    "#Serilerde listeleme ve filtreleme\n",
    "\n",
    "a = {2015:120, 2016:160, 2017:120, 2018:200}\n",
    "b= (1,2,3,4,4,4,5,5,6,1,2,3,4)\n",
    "\n",
    "series1 = pd.Series(a)\n",
    "series2 = pd.Series(b)\n",
    "series3 = pd.Series([68,184,40,\"Ozan\"],index=[\"Kilo\",\"Boy\",\"Yaş\",\"İsim\"])\n",
    "print(series3[\"Kilo\"])"
   ]
  },
  {
   "cell_type": "code",
   "execution_count": 42,
   "metadata": {},
   "outputs": [
    {
     "name": "stdout",
     "output_type": "stream",
     "text": [
      "0    1\n",
      "2    3\n",
      "4    4\n",
      "dtype: int64\n"
     ]
    }
   ],
   "source": [
    "print(series2[0:5:2])"
   ]
  },
  {
   "cell_type": "code",
   "execution_count": 43,
   "metadata": {},
   "outputs": [
    {
     "name": "stdout",
     "output_type": "stream",
     "text": [
      "3     4\n",
      "4     4\n",
      "5     4\n",
      "6     5\n",
      "7     5\n",
      "8     6\n",
      "12    4\n",
      "dtype: int64\n",
      "0     1\n",
      "2     3\n",
      "6     5\n",
      "7     5\n",
      "9     1\n",
      "11    3\n",
      "dtype: int64\n"
     ]
    }
   ],
   "source": [
    "print(series2[series2>=4])\n",
    "print(series2[series2%2==1])"
   ]
  },
  {
   "cell_type": "code",
   "execution_count": 44,
   "metadata": {},
   "outputs": [
    {
     "name": "stdout",
     "output_type": "stream",
     "text": [
      "En Büyük Sayı=9\n",
      "En Küçük Sayı=1\n",
      "Ortalama=5.583333333333333\n",
      "Uzunluğu=12\n",
      "Toplamı=67\n",
      "Medyan=6.5\n",
      "Mean=5.583333333333333\n",
      "varyans=6.076388888888888\n",
      "Standard Derivation=2.465033242958173\n",
      "Unique Datas=[1 2 3 4 5 6 7 8 9]\n",
      "Sayı=2 #How Many.\n",
      "Bölünmüş Hali = 0     0.2\n",
      "1     0.4\n",
      "2     0.6\n",
      "3     0.8\n",
      "4     1.0\n",
      "5     1.2\n",
      "6     1.4\n",
      "7     1.4\n",
      "8     1.4\n",
      "9     1.6\n",
      "10    1.6\n",
      "11    1.8\n",
      "dtype: float64\n",
      "Karekök = 0     1.000000\n",
      "1     1.414214\n",
      "2     1.732051\n",
      "3     2.000000\n",
      "4     2.236068\n",
      "5     2.449490\n",
      "6     2.645751\n",
      "7     2.645751\n",
      "8     2.645751\n",
      "9     2.828427\n",
      "10    2.828427\n",
      "11    3.000000\n",
      "dtype: float64\n",
      "\n",
      "\n"
     ]
    }
   ],
   "source": [
    "import numpy as np\n",
    "\n",
    "a= (1,2,3,4,5,6,7,7,7,8,8,9)\n",
    "series = pd.Series(a)\n",
    "\n",
    "print(f\"\"\"En Büyük Sayı={np.max(series)}\n",
    "En Küçük Sayı={np.min(series)}\n",
    "Ortalama={np.average(series)}\n",
    "Uzunluğu={len(series)}\n",
    "Toplamı={np.sum(series)}\n",
    "Medyan={np.median(series)}\n",
    "Mean={np.mean(series)}\n",
    "varyans={np.var(series)}\n",
    "Standard Derivation={np.std(series)}\n",
    "Unique Datas={series.unique()}\n",
    "Sayı={series.value_counts()[8]} #How Many.\n",
    "Bölünmüş Hali = {series/5}\n",
    "Karekök = {np.sqrt(series)}\n",
    "\n",
    "\"\"\")"
   ]
  },
  {
   "cell_type": "code",
   "execution_count": 45,
   "metadata": {},
   "outputs": [
    {
     "name": "stdout",
     "output_type": "stream",
     "text": [
      "     Boy  Kilo\n",
      "100  180    82\n",
      "101  175    80\n",
      "102  142    45\n",
      "103   16    55\n",
      "104  147    50\n"
     ]
    }
   ],
   "source": [
    "#DataFrame\n",
    "\n",
    "data = {\"Boy\":[180,175,142,16,147], \"Kilo\":[82,80,45,55,50]}\n",
    "dataFrame = pd.DataFrame(data,index=[i for i in range(100,105)])\n",
    "print(dataFrame)"
   ]
  },
  {
   "cell_type": "code",
   "execution_count": 46,
   "metadata": {},
   "outputs": [
    {
     "name": "stdout",
     "output_type": "stream",
     "text": [
      "\n",
      "Shape: (5, 2)\n",
      "Size: 10\n",
      "Length: 5\n",
      "      \n",
      "<class 'pandas.core.frame.DataFrame'>\n",
      "Index: 5 entries, 100 to 104\n",
      "Data columns (total 2 columns):\n",
      " #   Column  Non-Null Count  Dtype\n",
      "---  ------  --------------  -----\n",
      " 0   Boy     5 non-null      int64\n",
      " 1   Kilo    5 non-null      int64\n",
      "dtypes: int64(2)\n",
      "memory usage: 120.0 bytes\n"
     ]
    }
   ],
   "source": [
    "print(f\"\"\"\n",
    "Shape: {dataFrame.shape}\n",
    "Size: {dataFrame.size}\n",
    "Length: {len(dataFrame)}\n",
    "      \"\"\")\n",
    "dataFrame.info() # Data Info\n"
   ]
  },
  {
   "cell_type": "code",
   "execution_count": 47,
   "metadata": {},
   "outputs": [
    {
     "name": "stdout",
     "output_type": "stream",
     "text": [
      "     Boy  Kilo\n",
      "100  180    82\n",
      "101  175    80\n",
      "102  142    45\n",
      "103   16    55\n",
      "104  147    50\n",
      "**********************\n",
      "     Boy  Kilo\n",
      "100  180    82\n",
      "101  175    80\n"
     ]
    }
   ],
   "source": [
    "print(dataFrame.head()) #İlk 5 veri default*\n",
    "print(\"**********************\")\n",
    "\n",
    "print(dataFrame.head(2))"
   ]
  },
  {
   "cell_type": "code",
   "execution_count": 48,
   "metadata": {},
   "outputs": [
    {
     "name": "stdout",
     "output_type": "stream",
     "text": [
      "     Boy  Kilo\n",
      "100  180    82\n",
      "101  175    80\n",
      "102  142    45\n",
      "103   16    55\n",
      "104  147    50\n",
      "**********************\n",
      "     Boy  Kilo\n",
      "103   16    55\n",
      "104  147    50\n"
     ]
    }
   ],
   "source": [
    "print(dataFrame.tail()) #İlk 5 veri default*\n",
    "print(\"**********************\")\n",
    "\n",
    "print(dataFrame.tail(2))"
   ]
  },
  {
   "cell_type": "code",
   "execution_count": 49,
   "metadata": {},
   "outputs": [
    {
     "name": "stdout",
     "output_type": "stream",
     "text": [
      "     Boy  Kilo\n",
      "104  147    50\n"
     ]
    }
   ],
   "source": [
    "print(dataFrame.sample(frac=0.2)) #Örneklem oranı:frac"
   ]
  },
  {
   "cell_type": "code",
   "execution_count": 50,
   "metadata": {},
   "outputs": [
    {
     "name": "stdout",
     "output_type": "stream",
     "text": [
      "     Boy  Kilo\n",
      "100  180    82\n",
      "101  175    80\n",
      "104  147    50\n",
      "102  142    45\n",
      "103   16    55\n",
      "     Boy  Kilo\n",
      "100  180    82\n",
      "     Boy  Kilo\n",
      "103   16    55\n"
     ]
    }
   ],
   "source": [
    "print(dataFrame.sort_values([\"Boy\"],ascending=False)) # Küçükten Büyüğe\n",
    "\n",
    "print(dataFrame.sort_values([\"Boy\"]).tail(1)) # En Sondaki\n",
    "print(dataFrame.sort_values([\"Boy\"]).head(1)) # En Baştaki"
   ]
  },
  {
   "cell_type": "code",
   "execution_count": 51,
   "metadata": {},
   "outputs": [
    {
     "name": "stdout",
     "output_type": "stream",
     "text": [
      "        Sabah  Öğle  Akşam\n",
      "Gün 1     303   348    408\n",
      "Gün 2     327   443    354\n",
      "Gün 3     467   448    465\n",
      "Gün 4     318   433    446\n",
      "Gün 5     418   498    374\n",
      "Gün 6     375   309    445\n",
      "Gün 7     405   388    304\n",
      "Gün 8     439   335    345\n",
      "Gün 9     316   355    441\n",
      "Gün 10    386   452    410\n",
      "Gün 11    444   404    373\n",
      "Gün 12    325   441    486\n",
      "Gün 13    386   455    481\n",
      "Gün 14    489   405    400\n",
      "Gün 15    341   335    396\n",
      "Gün 16    362   310    401\n",
      "Gün 17    430   356    325\n",
      "Gün 18    334   409    471\n",
      "Gün 19    468   337    301\n",
      "Gün 20    406   308    312\n"
     ]
    }
   ],
   "source": [
    "from random import randint\n",
    "\n",
    "data = {\"Sabah\":[randint(300,500) for i in range(20)],\n",
    "           \"Öğle\":[randint(300,500) for i in range(20)],\n",
    "           \"Akşam\":[randint(300,500) for i in range(20)]}\n",
    "\n",
    "dataset = pd.DataFrame(data, index=[\"Gün \"+str(i) for i in range(1,21)])\n",
    "print(dataset)"
   ]
  },
  {
   "cell_type": "code",
   "execution_count": 52,
   "metadata": {},
   "outputs": [
    {
     "name": "stdout",
     "output_type": "stream",
     "text": [
      "303\n",
      "**********************************\n",
      "       Sabah  Öğle\n",
      "Gün 1    303   348\n",
      "Gün 2    327   443\n",
      "**********************************\n",
      "Gün 1    303\n",
      "Gün 2    327\n",
      "Gün 3    467\n",
      "Gün 4    318\n",
      "Gün 5    418\n",
      "Name: Sabah, dtype: int64\n",
      "**********************************\n",
      "       Sabah  Öğle  Akşam\n",
      "Gün 1    303   348    408\n",
      "Gün 2    327   443    354\n",
      "**********************************\n",
      "Gün 1    303\n",
      "Gün 2    327\n",
      "Name: Sabah, dtype: int64\n",
      "**********************************\n",
      "303\n",
      "**********************************\n",
      "        Sabah  Öğle  Akşam\n",
      "Gün 16    362   310    401\n",
      "Gün 17    430   356    325\n",
      "Gün 18    334   409    471\n",
      "Gün 19    468   337    301\n"
     ]
    }
   ],
   "source": [
    "print(dataset[\"Sabah\"][\"Gün 1\"])\n",
    "print(\"**********************************\")\n",
    "print(dataset[[\"Sabah\",\"Öğle\"]][0:2])\n",
    "print(\"**********************************\")\n",
    "print(dataset.Sabah[0:5])\n",
    "print(\"**********************************\")\n",
    "print(dataset.loc[[\"Gün 1\",\"Gün 2\"]])\n",
    "print(\"**********************************\")\n",
    "print(dataset.Sabah.loc[[\"Gün 1\",\"Gün 2\"]])\n",
    "print(\"**********************************\")\n",
    "print(dataset.Sabah.iloc[0])\n",
    "print(\"**********************************\")\n",
    "print(dataset.iloc[15:19])"
   ]
  },
  {
   "cell_type": "code",
   "execution_count": 53,
   "metadata": {},
   "outputs": [],
   "source": [
    "dataset = pd.read_excel(r\"Pistachio_28_Features_Dataset.xlsx\",\n",
    "              \"Pistachio_28_Features_Dataset\")"
   ]
  },
  {
   "cell_type": "code",
   "execution_count": 54,
   "metadata": {},
   "outputs": [
    {
     "name": "stdout",
     "output_type": "stream",
     "text": [
      "Area               int64\n",
      "Perimeter        float64\n",
      "Major_Axis       float64\n",
      "Minor_Axis       float64\n",
      "Eccentricity     float64\n",
      "Eqdiasq          float64\n",
      "Solidity         float64\n",
      "Convex_Area        int64\n",
      "Extent           float64\n",
      "Aspect_Ratio     float64\n",
      "Roundness        float64\n",
      "Compactness      float64\n",
      "Shapefactor_1    float64\n",
      "Shapefactor_2    float64\n",
      "Shapefactor_3    float64\n",
      "Shapefactor_4    float64\n",
      "Mean_RR          float64\n",
      "Mean_RG          float64\n",
      "Mean_RB          float64\n",
      "StdDev_RR        float64\n",
      "StdDev_RG        float64\n",
      "StdDev_RB        float64\n",
      "Skew_RR          float64\n",
      "Skew_RG          float64\n",
      "Skew_RB          float64\n",
      "Kurtosis_RR      float64\n",
      "Kurtosis_RG      float64\n",
      "Kurtosis_RB      float64\n",
      "Class             object\n",
      "dtype: object\n"
     ]
    }
   ],
   "source": [
    "#1. Type: \n",
    "print(dataset.dtypes)"
   ]
  },
  {
   "cell_type": "code",
   "execution_count": 55,
   "metadata": {},
   "outputs": [
    {
     "name": "stdout",
     "output_type": "stream",
     "text": [
      "<class 'pandas.core.frame.DataFrame'>\n",
      "RangeIndex: 2148 entries, 0 to 2147\n",
      "Data columns (total 29 columns):\n",
      " #   Column         Non-Null Count  Dtype  \n",
      "---  ------         --------------  -----  \n",
      " 0   Area           2148 non-null   int64  \n",
      " 1   Perimeter      2148 non-null   float64\n",
      " 2   Major_Axis     2148 non-null   float64\n",
      " 3   Minor_Axis     2148 non-null   float64\n",
      " 4   Eccentricity   2148 non-null   float64\n",
      " 5   Eqdiasq        2148 non-null   float64\n",
      " 6   Solidity       2148 non-null   float64\n",
      " 7   Convex_Area    2148 non-null   int64  \n",
      " 8   Extent         2148 non-null   float64\n",
      " 9   Aspect_Ratio   2148 non-null   float64\n",
      " 10  Roundness      2148 non-null   float64\n",
      " 11  Compactness    2148 non-null   float64\n",
      " 12  Shapefactor_1  2148 non-null   float64\n",
      " 13  Shapefactor_2  2148 non-null   float64\n",
      " 14  Shapefactor_3  2148 non-null   float64\n",
      " 15  Shapefactor_4  2148 non-null   float64\n",
      " 16  Mean_RR        2148 non-null   float64\n",
      " 17  Mean_RG        2148 non-null   float64\n",
      " 18  Mean_RB        2148 non-null   float64\n",
      " 19  StdDev_RR      2148 non-null   float64\n",
      " 20  StdDev_RG      2148 non-null   float64\n",
      " 21  StdDev_RB      2148 non-null   float64\n",
      " 22  Skew_RR        2148 non-null   float64\n",
      " 23  Skew_RG        2148 non-null   float64\n",
      " 24  Skew_RB        2148 non-null   float64\n",
      " 25  Kurtosis_RR    2148 non-null   float64\n",
      " 26  Kurtosis_RG    2148 non-null   float64\n",
      " 27  Kurtosis_RB    2148 non-null   float64\n",
      " 28  Class          2148 non-null   object \n",
      "dtypes: float64(26), int64(2), object(1)\n",
      "memory usage: 486.8+ KB\n",
      "None\n"
     ]
    }
   ],
   "source": [
    "#2.Genel Bilgi:\n",
    "print(dataset.info())"
   ]
  },
  {
   "cell_type": "code",
   "execution_count": 56,
   "metadata": {},
   "outputs": [
    {
     "name": "stdout",
     "output_type": "stream",
     "text": [
      "       Area  Perimeter  Major_Axis  Minor_Axis  Eccentricity   Eqdiasq  \\\n",
      "590   81796  1212.7340    470.0532    228.8208        0.8735  322.7164   \n",
      "2041  90924  1173.1331    443.9109    264.1593        0.8037  340.2470   \n",
      "1652  92123  1313.1591    454.3773    259.5891        0.8207  342.4831   \n",
      "\n",
      "      Solidity  Convex_Area  Extent  Aspect_Ratio  ...  StdDev_RR  StdDev_RG  \\\n",
      "590     0.9471        86362  0.7502        2.0542  ...    23.0256    23.8601   \n",
      "2041    0.9909        91755  0.7243        1.6805  ...    20.2907    21.4365   \n",
      "1652    0.9851        93520  0.7814        1.7504  ...    19.5988    20.7335   \n",
      "\n",
      "      StdDev_RB  Skew_RR  Skew_RG  Skew_RB  Kurtosis_RR  Kurtosis_RG  \\\n",
      "590     23.4183  -0.6871  -0.6680  -0.6969       2.6767       2.5820   \n",
      "2041    20.9444  -1.0689  -0.6966  -0.3796       4.0864       3.2679   \n",
      "1652    20.2895  -1.0535  -0.8966  -0.7142       3.4201       2.9848   \n",
      "\n",
      "      Kurtosis_RB              Class  \n",
      "590        2.5781  Kirmizi_Pistachio  \n",
      "2041       2.5645    Siirt_Pistachio  \n",
      "1652       2.7434    Siirt_Pistachio  \n",
      "\n",
      "[3 rows x 29 columns]\n"
     ]
    }
   ],
   "source": [
    "print(dataset.sample(3))"
   ]
  },
  {
   "cell_type": "code",
   "execution_count": 57,
   "metadata": {},
   "outputs": [
    {
     "name": "stdout",
     "output_type": "stream",
     "text": [
      "       Area  Perimeter  Major_Axis  Minor_Axis  Eccentricity   Eqdiasq  \\\n",
      "2042  94943  1192.6080    458.8630    264.1644        0.8177  347.6855   \n",
      "498   78903  1184.8510    463.5359    220.7859        0.8793  316.9581   \n",
      "2085  83930  1465.4720    437.6248    249.7410        0.8212  326.8990   \n",
      "273   70790  1141.7610    426.3818    215.8456        0.8624  300.2210   \n",
      "1791  86261  1156.8521    456.5374    241.3351        0.8489  331.4075   \n",
      "...     ...        ...         ...         ...           ...       ...   \n",
      "458   68801  1090.8180    449.0020    198.4721        0.8970  295.9732   \n",
      "1547  80607  1473.3530    454.6947    252.1690        0.8321  320.3623   \n",
      "2050  90712  1308.8530    472.0259    252.9245        0.8443  339.8501   \n",
      "555   86482  1296.3330    458.6565    242.6223        0.8486  331.8317   \n",
      "264   91398  1386.3250    488.1544    240.4808        0.8702  341.1328   \n",
      "\n",
      "      Solidity  Convex_Area  Extent  Aspect_Ratio  ...  StdDev_RR  StdDev_RG  \\\n",
      "2042    0.9917        95739  0.7571        1.7370  ...    17.7787    17.8156   \n",
      "498     0.9724        81139  0.6552        2.0995  ...    25.4622    26.8873   \n",
      "2085    0.9528        88092  0.7520        1.7523  ...    18.8440    21.1361   \n",
      "273     0.9627        73535  0.7196        1.9754  ...    27.3690    28.2008   \n",
      "1791    0.9878        87326  0.6689        1.8917  ...    22.7977    23.5885   \n",
      "...        ...          ...     ...           ...  ...        ...        ...   \n",
      "458     0.9883        69617  0.7593        2.2623  ...    26.4151    28.5863   \n",
      "1547    0.8817        91425  0.5546        1.8031  ...    25.4180    28.7254   \n",
      "2050    0.9361        96903  0.6963        1.8663  ...    20.2661    21.1573   \n",
      "555     0.9711        89057  0.7145        1.8904  ...    23.8506    24.1282   \n",
      "264     0.9788        93376  0.7289        2.0299  ...    23.6998    24.3551   \n",
      "\n",
      "      StdDev_RB  Skew_RR  Skew_RG  Skew_RB  Kurtosis_RR  Kurtosis_RG  \\\n",
      "2042    20.6061  -0.8952  -0.5762  -0.0348       3.6435       3.0682   \n",
      "498     27.0768  -0.6850  -0.5502  -0.4628       2.3983       2.1979   \n",
      "2085    19.9460  -0.6745  -0.5386  -0.4148       2.9130       2.5614   \n",
      "273     28.8649  -0.7492  -0.7299  -0.6278       2.4868       2.4937   \n",
      "1791    21.4567  -1.2850  -1.0216  -0.8154       3.6630       3.1439   \n",
      "...         ...      ...      ...      ...          ...          ...   \n",
      "458     30.1861  -1.1745  -1.0664  -0.8223       3.4500       3.1859   \n",
      "1547    25.0217  -0.2101  -0.0691  -0.1008       2.0354       1.9835   \n",
      "2050    21.5418  -0.8819  -0.7813  -0.4320       3.1274       2.9344   \n",
      "555     21.6652  -0.9235  -0.7942  -0.7632       2.9983       2.7146   \n",
      "264     23.5136  -1.1822  -1.0677  -0.5989       3.8183       3.6002   \n",
      "\n",
      "      Kurtosis_RB              Class  \n",
      "2042       2.6645    Siirt_Pistachio  \n",
      "498        2.1070  Kirmizi_Pistachio  \n",
      "2085       2.7330    Siirt_Pistachio  \n",
      "273        2.5969  Kirmizi_Pistachio  \n",
      "1791       3.0901    Siirt_Pistachio  \n",
      "...           ...                ...  \n",
      "458        2.6994  Kirmizi_Pistachio  \n",
      "1547       2.1705    Siirt_Pistachio  \n",
      "2050       2.6148    Siirt_Pistachio  \n",
      "555        2.6261  Kirmizi_Pistachio  \n",
      "264        3.3270  Kirmizi_Pistachio  \n",
      "\n",
      "[430 rows x 29 columns]\n"
     ]
    }
   ],
   "source": [
    "# 4.%10 rastgele:\n",
    "print(dataset.sample(frac=0.2))"
   ]
  },
  {
   "cell_type": "code",
   "execution_count": 58,
   "metadata": {},
   "outputs": [
    {
     "name": "stdout",
     "output_type": "stream",
     "text": [
      "    Area  Perimeter  Major_Axis  Minor_Axis  Eccentricity   Eqdiasq  Solidity  \\\n",
      "0  63391   1568.405    390.3396    236.7461        0.7951  284.0984    0.8665   \n",
      "1  68358   1942.187    410.8594    234.7525        0.8207  295.0188    0.8765   \n",
      "2  73589   1246.538    452.3630    220.5547        0.8731  306.0987    0.9172   \n",
      "3  71106   1445.261    429.5291    216.0765        0.8643  300.8903    0.9589   \n",
      "4  80087   1251.524    469.3783    220.9344        0.8823  319.3273    0.9657   \n",
      "5  52268   1154.150    383.8558    197.5020        0.8575  257.9723    0.8563   \n",
      "6  71693   1463.932    388.2366    252.8200        0.7589  302.1297    0.9156   \n",
      "7  62240   1898.450    385.7238    218.1349        0.8247  281.5074    0.8947   \n",
      "8  64319   2011.291    435.9127    213.7594        0.8715  286.1704    0.8633   \n",
      "9  78115   1238.623    492.3300    204.9987        0.9092  315.3714    0.9616   \n",
      "\n",
      "   Convex_Area  Extent  Aspect_Ratio  ...  StdDev_RR  StdDev_RG  StdDev_RB  \\\n",
      "0        73160  0.6394        1.6488  ...    17.7206    19.6024    21.1342   \n",
      "1        77991  0.6772        1.7502  ...    26.7061    27.2112    25.1035   \n",
      "2        80234  0.7127        2.0510  ...    19.0129    20.0703    20.7006   \n",
      "3        74153  0.7028        1.9879  ...    18.1773    18.7152    29.7883   \n",
      "4        82929  0.7459        2.1245  ...    23.4298    24.0878    23.1157   \n",
      "5        61039  0.5628        1.9436  ...    22.2838    23.8369    18.8311   \n",
      "6        78304  0.6892        1.5356  ...    21.5374    22.4506    23.1916   \n",
      "7        69563  0.6727        1.7683  ...    18.4959    18.8813    19.8073   \n",
      "8        74502  0.6542        2.0393  ...    23.9964    25.9236    32.5835   \n",
      "9        81236  0.7105        2.4016  ...    15.1877    15.2002    16.9397   \n",
      "\n",
      "   Skew_RR  Skew_RG  Skew_RB  Kurtosis_RR  Kurtosis_RG  Kurtosis_RB  \\\n",
      "0   0.4581   0.6635   0.7591       2.9692       3.0576       2.9542   \n",
      "1  -0.3847  -0.2713  -0.2927       1.9807       2.1006       2.2152   \n",
      "2  -0.6014  -0.4500   0.2998       3.5420       3.6856       4.1012   \n",
      "3  -0.6943  -0.6278  -0.7798       2.8776       2.8748       2.8953   \n",
      "4  -0.9287  -0.8134  -0.4970       2.9915       2.8813       2.7362   \n",
      "5  -0.5006  -0.4764  -0.3458       2.2325       2.2164       2.5764   \n",
      "6   0.4569   0.7061   0.3820       2.6861       3.3963       2.9868   \n",
      "7  -0.3596  -0.2957  -0.2690       2.5860       2.6125       3.1226   \n",
      "8  -0.6340  -0.4398  -0.5713       2.4145       2.3429       3.2907   \n",
      "9  -1.0709  -0.9604   0.4660       4.2805       4.4029       5.7850   \n",
      "\n",
      "               Class  \n",
      "0  Kirmizi_Pistachio  \n",
      "1  Kirmizi_Pistachio  \n",
      "2  Kirmizi_Pistachio  \n",
      "3  Kirmizi_Pistachio  \n",
      "4  Kirmizi_Pistachio  \n",
      "5  Kirmizi_Pistachio  \n",
      "6  Kirmizi_Pistachio  \n",
      "7  Kirmizi_Pistachio  \n",
      "8  Kirmizi_Pistachio  \n",
      "9  Kirmizi_Pistachio  \n",
      "\n",
      "[10 rows x 29 columns]\n"
     ]
    }
   ],
   "source": [
    "# 5. İlk 10:\n",
    "print(dataset.head(10))  "
   ]
  },
  {
   "cell_type": "code",
   "execution_count": 59,
   "metadata": {},
   "outputs": [
    {
     "name": "stdout",
     "output_type": "stream",
     "text": [
      "        Area  Perimeter  Major_Axis  Minor_Axis  Eccentricity   Eqdiasq  \\\n",
      "2138  102869  1397.6880    500.3747    271.2004        0.8404  361.9073   \n",
      "2139   88947  1317.8730    500.6831    228.6167        0.8897  336.5276   \n",
      "2140   87084  1221.7469    449.6449    247.7261        0.8345  332.9847   \n",
      "2141   83810  1174.3910    458.6697    239.0431        0.8535  326.6653   \n",
      "2142   98903  1374.4370    477.2451    269.7676        0.8249  354.8622   \n",
      "2143   85983  1157.1160    444.3447    248.8627        0.8284  330.8730   \n",
      "2144   85691  2327.3459    439.8794    278.9297        0.7732  330.3107   \n",
      "2145  101136  1255.6190    475.2161    271.3299        0.8210  358.8459   \n",
      "2146   97409  1195.2150    452.1823    274.5764        0.7945  352.1718   \n",
      "2147   78466  2356.9080    445.9131    258.5125        0.8148  316.0791   \n",
      "\n",
      "      Solidity  Convex_Area  Extent  Aspect_Ratio  ...  StdDev_RR  StdDev_RG  \\\n",
      "2138    0.9333       110221  0.7147        1.8450  ...    26.1218    29.5216   \n",
      "2139    0.9671        91973  0.7549        2.1901  ...    17.7841    18.0424   \n",
      "2140    0.9907        87902  0.7407        1.8151  ...    21.4047    22.2389   \n",
      "2141    0.9547        87784  0.6908        1.9188  ...    22.4977    23.2460   \n",
      "2142    0.9585       103181  0.7679        1.7691  ...    18.4103    20.3904   \n",
      "2143    0.9823        87536  0.6799        1.7855  ...    20.8474    20.8118   \n",
      "2144    0.8886        96439  0.6590        1.5770  ...    21.2621    22.5004   \n",
      "2145    0.9888       102286  0.7584        1.7514  ...    21.1262    20.0279   \n",
      "2146    0.9902        98376  0.7635        1.6468  ...    19.3274    19.1782   \n",
      "2147    0.8662        90591  0.6123        1.7249  ...    24.5451    25.9279   \n",
      "\n",
      "      StdDev_RB  Skew_RR  Skew_RG  Skew_RB  Kurtosis_RR  Kurtosis_RG  \\\n",
      "2138    28.5975  -0.6742  -0.6232  -0.3566       2.4345       2.3284   \n",
      "2139    19.1447  -1.0418  -1.0480  -0.6102       3.6704       3.7118   \n",
      "2140    21.0732  -1.3275  -1.0760  -0.7200       4.0620       3.4231   \n",
      "2141    23.2647  -1.1666  -1.0232  -0.9064       3.6446       3.2000   \n",
      "2142    18.3399  -1.2358  -1.2612  -0.9969       4.3948       4.4648   \n",
      "2143    21.1175  -0.6994  -0.7071  -0.6963       2.8853       2.6599   \n",
      "2144    21.5821  -0.5567  -0.4968  -0.6597       2.3022       2.2664   \n",
      "2145    17.4401  -0.9072  -0.8790  -0.4470       3.3112       3.4306   \n",
      "2146    19.8930  -0.9473  -0.8404  -0.3153       3.4237       2.9606   \n",
      "2147    24.4214  -0.7993  -0.5962  -0.3492       2.5278       2.2248   \n",
      "\n",
      "      Kurtosis_RB            Class  \n",
      "2138       2.1967  Siirt_Pistachio  \n",
      "2139       3.6457  Siirt_Pistachio  \n",
      "2140       2.9263  Siirt_Pistachio  \n",
      "2141       2.8411  Siirt_Pistachio  \n",
      "2142       3.6826  Siirt_Pistachio  \n",
      "2143       2.6317  Siirt_Pistachio  \n",
      "2144       2.5161  Siirt_Pistachio  \n",
      "2145       3.0697  Siirt_Pistachio  \n",
      "2146       3.0033  Siirt_Pistachio  \n",
      "2147       2.4480  Siirt_Pistachio  \n",
      "\n",
      "[10 rows x 29 columns]\n"
     ]
    }
   ],
   "source": [
    "# Son 10\n",
    "print(dataset.tail(10))"
   ]
  },
  {
   "cell_type": "code",
   "execution_count": 60,
   "metadata": {},
   "outputs": [
    {
     "name": "stdout",
     "output_type": "stream",
     "text": [
      "['Kirmizi_Pistachio' 'Siirt_Pistachio']\n"
     ]
    }
   ],
   "source": [
    "# 6.Kaç sınıf var:\n",
    "print(dataset.Class.unique())"
   ]
  },
  {
   "cell_type": "code",
   "execution_count": 61,
   "metadata": {},
   "outputs": [
    {
     "name": "stdout",
     "output_type": "stream",
     "text": [
      "1     Kirmizi_Pistachio\n",
      "2     Kirmizi_Pistachio\n",
      "3     Kirmizi_Pistachio\n",
      "4     Kirmizi_Pistachio\n",
      "5     Kirmizi_Pistachio\n",
      "6     Kirmizi_Pistachio\n",
      "7     Kirmizi_Pistachio\n",
      "8     Kirmizi_Pistachio\n",
      "9     Kirmizi_Pistachio\n",
      "10    Kirmizi_Pistachio\n",
      "11    Kirmizi_Pistachio\n",
      "12    Kirmizi_Pistachio\n",
      "13    Kirmizi_Pistachio\n",
      "14    Kirmizi_Pistachio\n",
      "15    Kirmizi_Pistachio\n",
      "16    Kirmizi_Pistachio\n",
      "17    Kirmizi_Pistachio\n",
      "18    Kirmizi_Pistachio\n",
      "19    Kirmizi_Pistachio\n",
      "20    Kirmizi_Pistachio\n",
      "Name: Class, dtype: object\n"
     ]
    }
   ],
   "source": [
    "# 7.İlk 20 örneğin sınıfı:\n",
    "print(dataset.Class[1:21])"
   ]
  },
  {
   "cell_type": "code",
   "execution_count": 62,
   "metadata": {},
   "outputs": [
    {
     "name": "stdout",
     "output_type": "stream",
     "text": [
      "Empty DataFrame\n",
      "Columns: [Area, Perimeter, Major_Axis, Minor_Axis, Eccentricity, Eqdiasq, Solidity, Convex_Area, Extent, Aspect_Ratio, Roundness, Compactness, Shapefactor_1, Shapefactor_2, Shapefactor_3, Shapefactor_4, Mean_RR, Mean_RG, Mean_RB, StdDev_RR, StdDev_RG, StdDev_RB, Skew_RR, Skew_RG, Skew_RB, Kurtosis_RR, Kurtosis_RG, Kurtosis_RB, Class]\n",
      "Index: []\n",
      "\n",
      "[0 rows x 29 columns]\n"
     ]
    }
   ],
   "source": [
    "# 8. Kırmızı Pistacio ve Mean RG 200'den büyük olanları yazdır:\n",
    "dataset = pd.DataFrame(dataset)\n",
    "\n",
    "print(dataset[(dataset.Mean_RG>200)&(dataset.Class== \"Kirmizi Pistachio\")>200])"
   ]
  },
  {
   "cell_type": "code",
   "execution_count": 63,
   "metadata": {},
   "outputs": [
    {
     "name": "stdout",
     "output_type": "stream",
     "text": [
      "        Area  Perimeter  Major_Axis  Minor_Axis  Eccentricity   Eqdiasq  \\\n",
      "1213   29808  1687.6100    339.0541    138.5344        0.9127  194.8146   \n",
      "220    29879  1874.9659    360.2448    157.3990        0.8995  195.0465   \n",
      "42     31446  1127.5480    360.3897    133.5096        0.9288  200.0957   \n",
      "960    32560  2553.4780    427.7586    156.2078        0.9309  203.6091   \n",
      "929    34095  1065.3920    341.1380    140.8142        0.9108  208.3533   \n",
      "...      ...        ...         ...         ...           ...       ...   \n",
      "1976  113794  1605.0970    451.1695    334.9978        0.6698  380.6403   \n",
      "1607  116282  1319.3621    513.4813    289.3589        0.8261  384.7790   \n",
      "2132  117822  1878.3820    473.5570    329.0721        0.7191  387.3185   \n",
      "2100  120744  1623.3900    493.4542    318.3991        0.7640  392.0919   \n",
      "1303  124008  2581.2500    535.6422    307.1895        0.8192  397.3561   \n",
      "\n",
      "      Solidity  Convex_Area  Extent  Aspect_Ratio  ...  StdDev_RR  StdDev_RG  \\\n",
      "1213    0.7584        39306  0.4372        2.4474  ...    13.1807    16.7458   \n",
      "220     0.6598        45283  0.4768        2.2887  ...    16.1689    16.4747   \n",
      "42      0.7601        41369  0.4853        2.6994  ...    17.3347    19.4730   \n",
      "960     0.5880        55371  0.4272        2.7384  ...    11.9674    14.3628   \n",
      "929     0.8738        39017  0.5609        2.4226  ...    17.2494    21.4533   \n",
      "...        ...          ...     ...           ...  ...        ...        ...   \n",
      "1976    0.9299       122368  0.7595        1.3468  ...    20.5294    25.5615   \n",
      "1607    0.9889       117589  0.7592        1.7745  ...    19.1956    20.2274   \n",
      "2132    0.9496       124077  0.7530        1.4391  ...    21.1208    23.9899   \n",
      "2100    0.9539       126581  0.7607        1.5498  ...    20.1881    22.6690   \n",
      "1303    0.9361       132478  0.6855        1.7437  ...    19.3973    19.8581   \n",
      "\n",
      "      StdDev_RB  Skew_RR  Skew_RG  Skew_RB  Kurtosis_RR  Kurtosis_RG  \\\n",
      "1213    15.3618   1.1467   1.2966   1.2951       4.8603       5.0006   \n",
      "220     15.2223   1.8654   2.2576   1.8521       8.8906      10.4539   \n",
      "42      15.6796  -0.0862   0.0379   0.0182       2.1804       2.1920   \n",
      "960     20.3153   0.4637   0.6049   0.9621       3.8425       3.4482   \n",
      "929     22.7159  -0.2031  -0.0735  -0.9953       2.6680       2.2293   \n",
      "...         ...      ...      ...      ...          ...          ...   \n",
      "1976    25.8010  -0.3681  -0.2710  -0.4697       2.4514       2.1532   \n",
      "1607    20.2722  -1.0537  -0.8152  -0.3572       3.7791       3.2555   \n",
      "2132    25.2012  -0.6665  -0.6350  -0.3601       2.8657       2.7841   \n",
      "2100    24.8590  -0.4285  -0.3423   0.0520       2.5939       2.4027   \n",
      "1303    19.9412  -0.9630  -1.0016  -0.4994       3.2403       3.3782   \n",
      "\n",
      "      Kurtosis_RB              Class  \n",
      "1213       5.5091  Kirmizi_Pistachio  \n",
      "220        9.0175  Kirmizi_Pistachio  \n",
      "42         2.7748  Kirmizi_Pistachio  \n",
      "960        3.6204  Kirmizi_Pistachio  \n",
      "929        4.7895  Kirmizi_Pistachio  \n",
      "...           ...                ...  \n",
      "1976       2.4446    Siirt_Pistachio  \n",
      "1607       2.4072    Siirt_Pistachio  \n",
      "2132       2.7750    Siirt_Pistachio  \n",
      "2100       2.9438    Siirt_Pistachio  \n",
      "1303       3.9243    Siirt_Pistachio  \n",
      "\n",
      "[2148 rows x 29 columns]\n",
      "       Area  Perimeter  Major_Axis  Minor_Axis  Eccentricity   Eqdiasq  \\\n",
      "960   32560  2553.4780    427.7586    156.2078        0.9309  203.6091   \n",
      "1213  29808  1687.6100    339.0541    138.5344        0.9127  194.8146   \n",
      "611   36760  1730.0590    439.6562    155.5409        0.9353  216.3430   \n",
      "220   29879  1874.9659    360.2448    157.3990        0.8995  195.0465   \n",
      "42    31446  1127.5480    360.3897    133.5096        0.9288  200.0957   \n",
      "...     ...        ...         ...         ...           ...       ...   \n",
      "432   87361  1205.8920    474.1873    235.9205        0.8674  333.5138   \n",
      "1198  77532  1084.2350    443.7108    223.7128        0.8636  314.1923   \n",
      "1406  87341  1223.0400    463.3287    241.1915        0.8538  333.4756   \n",
      "154   83333  1146.9790    457.7629    233.0776        0.8607  325.7343   \n",
      "2027  87842  1222.0291    492.0094    228.2559        0.8859  334.4307   \n",
      "\n",
      "      Solidity  Convex_Area  Extent  Aspect_Ratio  ...  StdDev_RR  StdDev_RG  \\\n",
      "960     0.5880        55371  0.4272        2.7384  ...    11.9674    14.3628   \n",
      "1213    0.7584        39306  0.4372        2.4474  ...    13.1807    16.7458   \n",
      "611     0.6583        55843  0.4485        2.8266  ...    20.1616    19.0635   \n",
      "220     0.6598        45283  0.4768        2.2887  ...    16.1689    16.4747   \n",
      "42      0.7601        41369  0.4853        2.6994  ...    17.3347    19.4730   \n",
      "...        ...          ...     ...           ...  ...        ...        ...   \n",
      "432     0.9856        88634  0.8063        2.0099  ...    21.6950    21.7465   \n",
      "1198    0.9919        78163  0.8064        1.9834  ...    20.5311    20.5842   \n",
      "1406    0.9803        89097  0.8083        1.9210  ...    21.6916    23.9353   \n",
      "154     0.9890        84260  0.8123        1.9640  ...    27.6626    28.6142   \n",
      "2027    0.9886        88857  0.8204        2.1555  ...    20.8752    22.4961   \n",
      "\n",
      "      StdDev_RB  Skew_RR  Skew_RG  Skew_RB  Kurtosis_RR  Kurtosis_RG  \\\n",
      "960     20.3153   0.4637   0.6049   0.9621       3.8425       3.4482   \n",
      "1213    15.3618   1.1467   1.2966   1.2951       4.8603       5.0006   \n",
      "611     20.1575   0.7815   1.0808   1.1830       3.2387       4.1588   \n",
      "220     15.2223   1.8654   2.2576   1.8521       8.8906      10.4539   \n",
      "42      15.6796  -0.0862   0.0379   0.0182       2.1804       2.1920   \n",
      "...         ...      ...      ...      ...          ...          ...   \n",
      "432     22.1554  -0.6710  -0.3750   0.2181       3.0730       2.8072   \n",
      "1198    20.3171  -1.4808  -1.3221  -1.0031       4.7626       4.4166   \n",
      "1406    27.6006  -0.9703  -0.7734  -0.6122       3.0166       2.6659   \n",
      "154     27.1125  -1.5912  -1.4832  -1.1706       4.5594       4.1743   \n",
      "2027    24.7148  -1.0919  -1.0103  -0.7702       3.5087       3.2530   \n",
      "\n",
      "      Kurtosis_RB              Class  \n",
      "960        3.6204  Kirmizi_Pistachio  \n",
      "1213       5.5091  Kirmizi_Pistachio  \n",
      "611        4.5453  Kirmizi_Pistachio  \n",
      "220        9.0175  Kirmizi_Pistachio  \n",
      "42         2.7748  Kirmizi_Pistachio  \n",
      "...           ...                ...  \n",
      "432        2.7974  Kirmizi_Pistachio  \n",
      "1198       3.4098  Kirmizi_Pistachio  \n",
      "1406       2.5587    Siirt_Pistachio  \n",
      "154        3.4032  Kirmizi_Pistachio  \n",
      "2027       3.1828    Siirt_Pistachio  \n",
      "\n",
      "[2148 rows x 29 columns]\n"
     ]
    }
   ],
   "source": [
    "#9. Area ve Extend özelliklerine göre sort yaptır:\n",
    "print(dataset.sort_values(by = [\"Area\"]))\n",
    "print(dataset.sort_values(by = [\"Extent\"]))"
   ]
  },
  {
   "cell_type": "code",
   "execution_count": 64,
   "metadata": {},
   "outputs": [
    {
     "name": "stdout",
     "output_type": "stream",
     "text": [
      "        Area  Perimeter  Major_Axis  Minor_Axis  Eccentricity   Eqdiasq  \\\n",
      "1303  124008  2581.2500    535.6422    307.1895        0.8192  397.3561   \n",
      "2100  120744  1623.3900    493.4542    318.3991        0.7640  392.0919   \n",
      "2132  117822  1878.3820    473.5570    329.0721        0.7191  387.3185   \n",
      "1607  116282  1319.3621    513.4813    289.3589        0.8261  384.7790   \n",
      "1976  113794  1605.0970    451.1695    334.9978        0.6698  380.6403   \n",
      "...      ...        ...         ...         ...           ...       ...   \n",
      "929    34095  1065.3920    341.1380    140.8142        0.9108  208.3533   \n",
      "960    32560  2553.4780    427.7586    156.2078        0.9309  203.6091   \n",
      "42     31446  1127.5480    360.3897    133.5096        0.9288  200.0957   \n",
      "220    29879  1874.9659    360.2448    157.3990        0.8995  195.0465   \n",
      "1213   29808  1687.6100    339.0541    138.5344        0.9127  194.8146   \n",
      "\n",
      "      Solidity  Convex_Area  Extent  Aspect_Ratio  ...  StdDev_RR  StdDev_RG  \\\n",
      "1303    0.9361       132478  0.6855        1.7437  ...    19.3973    19.8581   \n",
      "2100    0.9539       126581  0.7607        1.5498  ...    20.1881    22.6690   \n",
      "2132    0.9496       124077  0.7530        1.4391  ...    21.1208    23.9899   \n",
      "1607    0.9889       117589  0.7592        1.7745  ...    19.1956    20.2274   \n",
      "1976    0.9299       122368  0.7595        1.3468  ...    20.5294    25.5615   \n",
      "...        ...          ...     ...           ...  ...        ...        ...   \n",
      "929     0.8738        39017  0.5609        2.4226  ...    17.2494    21.4533   \n",
      "960     0.5880        55371  0.4272        2.7384  ...    11.9674    14.3628   \n",
      "42      0.7601        41369  0.4853        2.6994  ...    17.3347    19.4730   \n",
      "220     0.6598        45283  0.4768        2.2887  ...    16.1689    16.4747   \n",
      "1213    0.7584        39306  0.4372        2.4474  ...    13.1807    16.7458   \n",
      "\n",
      "      StdDev_RB  Skew_RR  Skew_RG  Skew_RB  Kurtosis_RR  Kurtosis_RG  \\\n",
      "1303    19.9412  -0.9630  -1.0016  -0.4994       3.2403       3.3782   \n",
      "2100    24.8590  -0.4285  -0.3423   0.0520       2.5939       2.4027   \n",
      "2132    25.2012  -0.6665  -0.6350  -0.3601       2.8657       2.7841   \n",
      "1607    20.2722  -1.0537  -0.8152  -0.3572       3.7791       3.2555   \n",
      "1976    25.8010  -0.3681  -0.2710  -0.4697       2.4514       2.1532   \n",
      "...         ...      ...      ...      ...          ...          ...   \n",
      "929     22.7159  -0.2031  -0.0735  -0.9953       2.6680       2.2293   \n",
      "960     20.3153   0.4637   0.6049   0.9621       3.8425       3.4482   \n",
      "42      15.6796  -0.0862   0.0379   0.0182       2.1804       2.1920   \n",
      "220     15.2223   1.8654   2.2576   1.8521       8.8906      10.4539   \n",
      "1213    15.3618   1.1467   1.2966   1.2951       4.8603       5.0006   \n",
      "\n",
      "      Kurtosis_RB              Class  \n",
      "1303       3.9243    Siirt_Pistachio  \n",
      "2100       2.9438    Siirt_Pistachio  \n",
      "2132       2.7750    Siirt_Pistachio  \n",
      "1607       2.4072    Siirt_Pistachio  \n",
      "1976       2.4446    Siirt_Pistachio  \n",
      "...           ...                ...  \n",
      "929        4.7895  Kirmizi_Pistachio  \n",
      "960        3.6204  Kirmizi_Pistachio  \n",
      "42         2.7748  Kirmizi_Pistachio  \n",
      "220        9.0175  Kirmizi_Pistachio  \n",
      "1213       5.5091  Kirmizi_Pistachio  \n",
      "\n",
      "[2148 rows x 29 columns]\n",
      "       Area  Perimeter  Major_Axis  Minor_Axis  Eccentricity   Eqdiasq  \\\n",
      "2027  87842  1222.0291    492.0094    228.2559        0.8859  334.4307   \n",
      "154   83333  1146.9790    457.7629    233.0776        0.8607  325.7343   \n",
      "1406  87341  1223.0400    463.3287    241.1915        0.8538  333.4756   \n",
      "1198  77532  1084.2350    443.7108    223.7128        0.8636  314.1923   \n",
      "432   87361  1205.8920    474.1873    235.9205        0.8674  333.5138   \n",
      "...     ...        ...         ...         ...           ...       ...   \n",
      "42    31446  1127.5480    360.3897    133.5096        0.9288  200.0957   \n",
      "220   29879  1874.9659    360.2448    157.3990        0.8995  195.0465   \n",
      "611   36760  1730.0590    439.6562    155.5409        0.9353  216.3430   \n",
      "1213  29808  1687.6100    339.0541    138.5344        0.9127  194.8146   \n",
      "960   32560  2553.4780    427.7586    156.2078        0.9309  203.6091   \n",
      "\n",
      "      Solidity  Convex_Area  Extent  Aspect_Ratio  ...  StdDev_RR  StdDev_RG  \\\n",
      "2027    0.9886        88857  0.8204        2.1555  ...    20.8752    22.4961   \n",
      "154     0.9890        84260  0.8123        1.9640  ...    27.6626    28.6142   \n",
      "1406    0.9803        89097  0.8083        1.9210  ...    21.6916    23.9353   \n",
      "1198    0.9919        78163  0.8064        1.9834  ...    20.5311    20.5842   \n",
      "432     0.9856        88634  0.8063        2.0099  ...    21.6950    21.7465   \n",
      "...        ...          ...     ...           ...  ...        ...        ...   \n",
      "42      0.7601        41369  0.4853        2.6994  ...    17.3347    19.4730   \n",
      "220     0.6598        45283  0.4768        2.2887  ...    16.1689    16.4747   \n",
      "611     0.6583        55843  0.4485        2.8266  ...    20.1616    19.0635   \n",
      "1213    0.7584        39306  0.4372        2.4474  ...    13.1807    16.7458   \n",
      "960     0.5880        55371  0.4272        2.7384  ...    11.9674    14.3628   \n",
      "\n",
      "      StdDev_RB  Skew_RR  Skew_RG  Skew_RB  Kurtosis_RR  Kurtosis_RG  \\\n",
      "2027    24.7148  -1.0919  -1.0103  -0.7702       3.5087       3.2530   \n",
      "154     27.1125  -1.5912  -1.4832  -1.1706       4.5594       4.1743   \n",
      "1406    27.6006  -0.9703  -0.7734  -0.6122       3.0166       2.6659   \n",
      "1198    20.3171  -1.4808  -1.3221  -1.0031       4.7626       4.4166   \n",
      "432     22.1554  -0.6710  -0.3750   0.2181       3.0730       2.8072   \n",
      "...         ...      ...      ...      ...          ...          ...   \n",
      "42      15.6796  -0.0862   0.0379   0.0182       2.1804       2.1920   \n",
      "220     15.2223   1.8654   2.2576   1.8521       8.8906      10.4539   \n",
      "611     20.1575   0.7815   1.0808   1.1830       3.2387       4.1588   \n",
      "1213    15.3618   1.1467   1.2966   1.2951       4.8603       5.0006   \n",
      "960     20.3153   0.4637   0.6049   0.9621       3.8425       3.4482   \n",
      "\n",
      "      Kurtosis_RB              Class  \n",
      "2027       3.1828    Siirt_Pistachio  \n",
      "154        3.4032  Kirmizi_Pistachio  \n",
      "1406       2.5587    Siirt_Pistachio  \n",
      "1198       3.4098  Kirmizi_Pistachio  \n",
      "432        2.7974  Kirmizi_Pistachio  \n",
      "...           ...                ...  \n",
      "42         2.7748  Kirmizi_Pistachio  \n",
      "220        9.0175  Kirmizi_Pistachio  \n",
      "611        4.5453  Kirmizi_Pistachio  \n",
      "1213       5.5091  Kirmizi_Pistachio  \n",
      "960        3.6204  Kirmizi_Pistachio  \n",
      "\n",
      "[2148 rows x 29 columns]\n"
     ]
    }
   ],
   "source": [
    "# 10. Aynı özelliklere göre tersine sort yaptır:\n",
    "print(dataset.sort_values(by = [\"Area\"],ascending=False))\n",
    "print(dataset.sort_values(by = [\"Extent\"],ascending=False))"
   ]
  }
 ],
 "metadata": {
  "kernelspec": {
   "display_name": "btk-manisa",
   "language": "python",
   "name": "python3"
  },
  "language_info": {
   "codemirror_mode": {
    "name": "ipython",
    "version": 3
   },
   "file_extension": ".py",
   "mimetype": "text/x-python",
   "name": "python",
   "nbconvert_exporter": "python",
   "pygments_lexer": "ipython3",
   "version": "3.10.7"
  }
 },
 "nbformat": 4,
 "nbformat_minor": 2
}
